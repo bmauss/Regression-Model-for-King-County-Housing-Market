{
 "cells": [
  {
   "cell_type": "markdown",
   "metadata": {},
   "source": [
    "#  Obtaining data"
   ]
  },
  {
   "cell_type": "markdown",
   "metadata": {},
   "source": [
    "## Stakeholder Requirements\n",
    "\n",
    "Our stakeholder's **most valuable asset** is **time**.  They need to purchase a home and be able to flip it **quickly**, while **keeping costs low**. \n",
    "\n",
    "The home also needs to be able to **sell just as speedily**.  Therefore, the **area around the home** must be **enticing** enough to attract buyers.\n",
    "\n",
    "With these things in mind, we'll need to determine what features of a home to look into when buying, what **system** can they use to **measure their progress**, and where to find these homes.\n",
    "\n",
    "We'll explore the relationship between a house's condition and the grade given by King County, as well as find a way to cross reference data and find the best place to search for homes.  We'll also be looking for predictors that impact house prices the most and whether or not it is something that can be improved upon (for example, you can fix up the interior/exterior of the home, but you can't change the zip code it is in)."
   ]
  },
  {
   "cell_type": "markdown",
   "metadata": {},
   "source": [
    "## Import Data\n",
    "\n",
    "Time to import the necessary libraries and initialize a data frame containing the data from the CSV file."
   ]
  },
  {
   "cell_type": "code",
   "execution_count": 1,
   "metadata": {
    "ExecuteTime": {
     "end_time": "2020-07-26T16:29:31.888155Z",
     "start_time": "2020-07-26T16:29:29.939168Z"
    }
   },
   "outputs": [],
   "source": [
    "import warnings\n",
    "warnings.filterwarnings('ignore')\n",
    "import pandas as pd\n",
    "import matplotlib.pyplot as plt\n",
    "%matplotlib inline\n",
    "import seaborn as sns\n",
    "import numpy as np\n",
    "import statsmodels.api as sm\n",
    "import statsmodels.formula.api as smf\n",
    "from statsmodels.formula.api import ols\n",
    "from scipy.stats import stats\n",
    "import statsmodels.stats.api as sms\n",
    "\n",
    "sns.set_style('darkgrid')"
   ]
  },
  {
   "cell_type": "code",
   "execution_count": 2,
   "metadata": {
    "ExecuteTime": {
     "end_time": "2020-07-26T16:29:31.971128Z",
     "start_time": "2020-07-26T16:29:31.889157Z"
    }
   },
   "outputs": [
    {
     "name": "stdout",
     "output_type": "stream",
     "text": [
      "<class 'pandas.core.frame.DataFrame'>\n",
      "RangeIndex: 21597 entries, 0 to 21596\n",
      "Data columns (total 21 columns):\n",
      "id               21597 non-null int64\n",
      "date             21597 non-null object\n",
      "price            21597 non-null float64\n",
      "bedrooms         21597 non-null int64\n",
      "bathrooms        21597 non-null float64\n",
      "sqft_living      21597 non-null int64\n",
      "sqft_lot         21597 non-null int64\n",
      "floors           21597 non-null float64\n",
      "waterfront       19221 non-null float64\n",
      "view             21534 non-null float64\n",
      "condition        21597 non-null int64\n",
      "grade            21597 non-null int64\n",
      "sqft_above       21597 non-null int64\n",
      "sqft_basement    21597 non-null object\n",
      "yr_built         21597 non-null int64\n",
      "yr_renovated     17755 non-null float64\n",
      "zipcode          21597 non-null int64\n",
      "lat              21597 non-null float64\n",
      "long             21597 non-null float64\n",
      "sqft_living15    21597 non-null int64\n",
      "sqft_lot15       21597 non-null int64\n",
      "dtypes: float64(8), int64(11), object(2)\n",
      "memory usage: 3.5+ MB\n",
      "None\n"
     ]
    },
    {
     "data": {
      "text/html": [
       "<div>\n",
       "<style scoped>\n",
       "    .dataframe tbody tr th:only-of-type {\n",
       "        vertical-align: middle;\n",
       "    }\n",
       "\n",
       "    .dataframe tbody tr th {\n",
       "        vertical-align: top;\n",
       "    }\n",
       "\n",
       "    .dataframe thead th {\n",
       "        text-align: right;\n",
       "    }\n",
       "</style>\n",
       "<table border=\"1\" class=\"dataframe\">\n",
       "  <thead>\n",
       "    <tr style=\"text-align: right;\">\n",
       "      <th></th>\n",
       "      <th>id</th>\n",
       "      <th>date</th>\n",
       "      <th>price</th>\n",
       "      <th>bedrooms</th>\n",
       "      <th>bathrooms</th>\n",
       "      <th>sqft_living</th>\n",
       "      <th>sqft_lot</th>\n",
       "      <th>floors</th>\n",
       "      <th>waterfront</th>\n",
       "      <th>view</th>\n",
       "      <th>...</th>\n",
       "      <th>grade</th>\n",
       "      <th>sqft_above</th>\n",
       "      <th>sqft_basement</th>\n",
       "      <th>yr_built</th>\n",
       "      <th>yr_renovated</th>\n",
       "      <th>zipcode</th>\n",
       "      <th>lat</th>\n",
       "      <th>long</th>\n",
       "      <th>sqft_living15</th>\n",
       "      <th>sqft_lot15</th>\n",
       "    </tr>\n",
       "  </thead>\n",
       "  <tbody>\n",
       "    <tr>\n",
       "      <td>0</td>\n",
       "      <td>7129300520</td>\n",
       "      <td>10/13/2014</td>\n",
       "      <td>221900.0</td>\n",
       "      <td>3</td>\n",
       "      <td>1.00</td>\n",
       "      <td>1180</td>\n",
       "      <td>5650</td>\n",
       "      <td>1.0</td>\n",
       "      <td>NaN</td>\n",
       "      <td>0.0</td>\n",
       "      <td>...</td>\n",
       "      <td>7</td>\n",
       "      <td>1180</td>\n",
       "      <td>0.0</td>\n",
       "      <td>1955</td>\n",
       "      <td>0.0</td>\n",
       "      <td>98178</td>\n",
       "      <td>47.5112</td>\n",
       "      <td>-122.257</td>\n",
       "      <td>1340</td>\n",
       "      <td>5650</td>\n",
       "    </tr>\n",
       "    <tr>\n",
       "      <td>1</td>\n",
       "      <td>6414100192</td>\n",
       "      <td>12/9/2014</td>\n",
       "      <td>538000.0</td>\n",
       "      <td>3</td>\n",
       "      <td>2.25</td>\n",
       "      <td>2570</td>\n",
       "      <td>7242</td>\n",
       "      <td>2.0</td>\n",
       "      <td>0.0</td>\n",
       "      <td>0.0</td>\n",
       "      <td>...</td>\n",
       "      <td>7</td>\n",
       "      <td>2170</td>\n",
       "      <td>400.0</td>\n",
       "      <td>1951</td>\n",
       "      <td>1991.0</td>\n",
       "      <td>98125</td>\n",
       "      <td>47.7210</td>\n",
       "      <td>-122.319</td>\n",
       "      <td>1690</td>\n",
       "      <td>7639</td>\n",
       "    </tr>\n",
       "    <tr>\n",
       "      <td>2</td>\n",
       "      <td>5631500400</td>\n",
       "      <td>2/25/2015</td>\n",
       "      <td>180000.0</td>\n",
       "      <td>2</td>\n",
       "      <td>1.00</td>\n",
       "      <td>770</td>\n",
       "      <td>10000</td>\n",
       "      <td>1.0</td>\n",
       "      <td>0.0</td>\n",
       "      <td>0.0</td>\n",
       "      <td>...</td>\n",
       "      <td>6</td>\n",
       "      <td>770</td>\n",
       "      <td>0.0</td>\n",
       "      <td>1933</td>\n",
       "      <td>NaN</td>\n",
       "      <td>98028</td>\n",
       "      <td>47.7379</td>\n",
       "      <td>-122.233</td>\n",
       "      <td>2720</td>\n",
       "      <td>8062</td>\n",
       "    </tr>\n",
       "  </tbody>\n",
       "</table>\n",
       "<p>3 rows × 21 columns</p>\n",
       "</div>"
      ],
      "text/plain": [
       "           id        date     price  bedrooms  bathrooms  sqft_living  \\\n",
       "0  7129300520  10/13/2014  221900.0         3       1.00         1180   \n",
       "1  6414100192   12/9/2014  538000.0         3       2.25         2570   \n",
       "2  5631500400   2/25/2015  180000.0         2       1.00          770   \n",
       "\n",
       "   sqft_lot  floors  waterfront  view  ...  grade  sqft_above  sqft_basement  \\\n",
       "0      5650     1.0         NaN   0.0  ...      7        1180            0.0   \n",
       "1      7242     2.0         0.0   0.0  ...      7        2170          400.0   \n",
       "2     10000     1.0         0.0   0.0  ...      6         770            0.0   \n",
       "\n",
       "  yr_built  yr_renovated  zipcode      lat     long  sqft_living15  sqft_lot15  \n",
       "0     1955           0.0    98178  47.5112 -122.257           1340        5650  \n",
       "1     1951        1991.0    98125  47.7210 -122.319           1690        7639  \n",
       "2     1933           NaN    98028  47.7379 -122.233           2720        8062  \n",
       "\n",
       "[3 rows x 21 columns]"
      ]
     },
     "execution_count": 2,
     "metadata": {},
     "output_type": "execute_result"
    }
   ],
   "source": [
    "df = pd.read_csv('csv_files/kc_house_data.csv')\n",
    "print(df.info())\n",
    "df.head(3)"
   ]
  },
  {
   "cell_type": "markdown",
   "metadata": {},
   "source": [
    "* **Missing** data in **'waterfront'**, **'view'**, and **'yr_renovated'**\n",
    "* **'date'** and **'sq_ft_basement'** have been **typed as objects**"
   ]
  },
  {
   "cell_type": "markdown",
   "metadata": {},
   "source": [
    "# Scrubbing Data"
   ]
  },
  {
   "cell_type": "markdown",
   "metadata": {},
   "source": [
    "## Waterfront"
   ]
  },
  {
   "cell_type": "code",
   "execution_count": 3,
   "metadata": {
    "ExecuteTime": {
     "end_time": "2020-07-26T16:29:31.999094Z",
     "start_time": "2020-07-26T16:29:31.973109Z"
    }
   },
   "outputs": [
    {
     "name": "stdout",
     "output_type": "stream",
     "text": [
      "0.0    19075\n",
      "1.0      146\n",
      "Name: waterfront, dtype: int64\n"
     ]
    },
    {
     "data": {
      "text/plain": [
       "count    1.460000e+02\n",
       "mean     1.717215e+06\n",
       "std      1.145385e+06\n",
       "min      2.850000e+05\n",
       "25%      8.275000e+05\n",
       "50%      1.510000e+06\n",
       "75%      2.282500e+06\n",
       "max      7.060000e+06\n",
       "Name: price, dtype: float64"
      ]
     },
     "execution_count": 3,
     "metadata": {},
     "output_type": "execute_result"
    }
   ],
   "source": [
    "print(df.waterfront.value_counts())\n",
    "waterfront = df[df['waterfront'] == 1.0]\n",
    "waterfront['price'].describe()"
   ]
  },
  {
   "cell_type": "code",
   "execution_count": 4,
   "metadata": {
    "ExecuteTime": {
     "end_time": "2020-07-26T16:29:32.107307Z",
     "start_time": "2020-07-26T16:29:32.000093Z"
    }
   },
   "outputs": [
    {
     "data": {
      "text/plain": [
       "0"
      ]
     },
     "execution_count": 4,
     "metadata": {},
     "output_type": "execute_result"
    }
   ],
   "source": [
    "# Looked at low end prices of waterfront properties out of curiousity.\n",
    "# waterfront will play a significant role in price.  Replacing NaN's with \n",
    "# median\n",
    "df.waterfront.fillna(df['waterfront'].median(), inplace=True)\n",
    "df.waterfront.isna().sum()"
   ]
  },
  {
   "cell_type": "code",
   "execution_count": 5,
   "metadata": {
    "ExecuteTime": {
     "end_time": "2020-07-26T16:29:32.207375Z",
     "start_time": "2020-07-26T16:29:32.108292Z"
    }
   },
   "outputs": [],
   "source": [
    "# making dummies\n",
    "wtr_dummies = pd.get_dummies(df['waterfront'],prefix='waterfront')\n",
    "df = pd.concat([df, wtr_dummies], axis=1)\n"
   ]
  },
  {
   "cell_type": "code",
   "execution_count": 6,
   "metadata": {
    "ExecuteTime": {
     "end_time": "2020-07-26T16:29:32.341399Z",
     "start_time": "2020-07-26T16:29:32.208380Z"
    }
   },
   "outputs": [
    {
     "name": "stdout",
     "output_type": "stream",
     "text": [
      "<class 'pandas.core.frame.DataFrame'>\n",
      "RangeIndex: 21597 entries, 0 to 21596\n",
      "Data columns (total 23 columns):\n",
      "id                21597 non-null int64\n",
      "date              21597 non-null object\n",
      "price             21597 non-null float64\n",
      "bedrooms          21597 non-null int64\n",
      "bathrooms         21597 non-null float64\n",
      "sqft_living       21597 non-null int64\n",
      "sqft_lot          21597 non-null int64\n",
      "floors            21597 non-null float64\n",
      "waterfront        21597 non-null float64\n",
      "view              21534 non-null float64\n",
      "condition         21597 non-null int64\n",
      "grade             21597 non-null int64\n",
      "sqft_above        21597 non-null int64\n",
      "sqft_basement     21597 non-null object\n",
      "yr_built          21597 non-null int64\n",
      "yr_renovated      17755 non-null float64\n",
      "zipcode           21597 non-null int64\n",
      "lat               21597 non-null float64\n",
      "long              21597 non-null float64\n",
      "sqft_living15     21597 non-null int64\n",
      "sqft_lot15        21597 non-null int64\n",
      "waterfront_0.0    21597 non-null uint8\n",
      "waterfront_1.0    21597 non-null uint8\n",
      "dtypes: float64(8), int64(11), object(2), uint8(2)\n",
      "memory usage: 3.5+ MB\n"
     ]
    }
   ],
   "source": [
    "# checking data types\n",
    "df.info()"
   ]
  },
  {
   "cell_type": "code",
   "execution_count": 7,
   "metadata": {
    "ExecuteTime": {
     "end_time": "2020-07-26T16:29:32.433781Z",
     "start_time": "2020-07-26T16:29:32.344398Z"
    }
   },
   "outputs": [
    {
     "name": "stdout",
     "output_type": "stream",
     "text": [
      "<class 'pandas.core.frame.DataFrame'>\n",
      "RangeIndex: 21597 entries, 0 to 21596\n",
      "Data columns (total 23 columns):\n",
      "id                21597 non-null int64\n",
      "date              21597 non-null object\n",
      "price             21597 non-null float64\n",
      "bedrooms          21597 non-null int64\n",
      "bathrooms         21597 non-null float64\n",
      "sqft_living       21597 non-null int64\n",
      "sqft_lot          21597 non-null int64\n",
      "floors            21597 non-null float64\n",
      "waterfront        21597 non-null float64\n",
      "view              21534 non-null float64\n",
      "condition         21597 non-null int64\n",
      "grade             21597 non-null int64\n",
      "sqft_above        21597 non-null int64\n",
      "sqft_basement     21597 non-null object\n",
      "yr_built          21597 non-null int64\n",
      "yr_renovated      17755 non-null float64\n",
      "zipcode           21597 non-null int64\n",
      "lat               21597 non-null float64\n",
      "long              21597 non-null float64\n",
      "sqft_living15     21597 non-null int64\n",
      "sqft_lot15        21597 non-null int64\n",
      "waterfront_0.0    21597 non-null int32\n",
      "waterfront_1.0    21597 non-null int32\n",
      "dtypes: float64(8), int32(2), int64(11), object(2)\n",
      "memory usage: 3.6+ MB\n"
     ]
    }
   ],
   "source": [
    "#fixing dummy datatypes\n",
    "\n",
    "for col in df.columns:\n",
    "    if df[col].dtype == df['waterfront_1.0'].dtype:\n",
    "        df[col] = df[col].astype(int)\n",
    "df['waterfront_0.0'].dtype\n",
    "df.info()"
   ]
  },
  {
   "cell_type": "code",
   "execution_count": 8,
   "metadata": {
    "ExecuteTime": {
     "end_time": "2020-07-26T16:29:32.570927Z",
     "start_time": "2020-07-26T16:29:32.435767Z"
    }
   },
   "outputs": [
    {
     "data": {
      "text/plain": [
       "Index(['id', 'date', 'price', 'bedrooms', 'bathrooms', 'sqft_living',\n",
       "       'sqft_lot', 'floors', 'view', 'condition', 'grade', 'sqft_above',\n",
       "       'sqft_basement', 'yr_built', 'yr_renovated', 'zipcode', 'lat', 'long',\n",
       "       'sqft_living15', 'sqft_lot15', 'waterfront_N', 'waterfront_Y'],\n",
       "      dtype='object')"
      ]
     },
     "execution_count": 8,
     "metadata": {},
     "output_type": "execute_result"
    }
   ],
   "source": [
    "df2 = df.drop(['waterfront'], axis=1)\n",
    "df2 = df2.rename(columns={'waterfront_0.0':'waterfront_N',\n",
    "                         'waterfront_1.0':'waterfront_Y'})\n",
    "df2.columns"
   ]
  },
  {
   "cell_type": "markdown",
   "metadata": {},
   "source": [
    "## Yr_renovated"
   ]
  },
  {
   "cell_type": "code",
   "execution_count": 9,
   "metadata": {
    "ExecuteTime": {
     "end_time": "2020-07-26T16:29:32.670333Z",
     "start_time": "2020-07-26T16:29:32.572930Z"
    }
   },
   "outputs": [
    {
     "data": {
      "text/plain": [
       "0.0       17011\n",
       "2014.0       73\n",
       "2003.0       31\n",
       "2013.0       31\n",
       "2007.0       30\n",
       "          ...  \n",
       "1946.0        1\n",
       "1959.0        1\n",
       "1971.0        1\n",
       "1951.0        1\n",
       "1954.0        1\n",
       "Name: yr_renovated, Length: 70, dtype: int64"
      ]
     },
     "execution_count": 9,
     "metadata": {},
     "output_type": "execute_result"
    }
   ],
   "source": [
    "# Checking out yr_renovated  ***Take deeper look into this***\n",
    "df2.yr_renovated.value_counts()"
   ]
  },
  {
   "cell_type": "code",
   "execution_count": 10,
   "metadata": {
    "ExecuteTime": {
     "end_time": "2020-07-26T16:29:32.887589Z",
     "start_time": "2020-07-26T16:29:32.671333Z"
    }
   },
   "outputs": [
    {
     "data": {
      "text/plain": [
       "0           0.0\n",
       "1        1991.0\n",
       "2           0.0\n",
       "3           0.0\n",
       "4           0.0\n",
       "          ...  \n",
       "21592       0.0\n",
       "21593       0.0\n",
       "21594       0.0\n",
       "21595       0.0\n",
       "21596       0.0\n",
       "Name: yr_renovated, Length: 21597, dtype: float64"
      ]
     },
     "execution_count": 10,
     "metadata": {},
     "output_type": "execute_result"
    }
   ],
   "source": [
    "# Since having data about renovated homes might be useful, filling NaN's with\n",
    "# median\n",
    "df2.yr_renovated.fillna(df2['yr_renovated'].median())"
   ]
  },
  {
   "cell_type": "markdown",
   "metadata": {},
   "source": [
    "### Is It Categorical? "
   ]
  },
  {
   "cell_type": "code",
   "execution_count": 11,
   "metadata": {
    "ExecuteTime": {
     "end_time": "2020-07-26T16:29:33.494984Z",
     "start_time": "2020-07-26T16:29:32.890569Z"
    }
   },
   "outputs": [
    {
     "data": {
      "text/plain": [
       "<matplotlib.axes._subplots.AxesSubplot at 0x247d107f630>"
      ]
     },
     "execution_count": 11,
     "metadata": {},
     "output_type": "execute_result"
    },
    {
     "data": {
      "image/png": "[encoded data removed]",
      "text/plain": [
       "<Figure size 432x288 with 1 Axes>"
      ]
     },
     "metadata": {
      "needs_background": "light"
     },
     "output_type": "display_data"
    }
   ],
   "source": [
    "# checking the impact of homes renovated versus not renovated against price\n",
    "\n",
    "no_reno = df2[df2['yr_renovated'] == 0]\n",
    "\n",
    "reno = df2[df2['yr_renovated'] != 0]\n",
    "\n",
    "sns.scatterplot(x=reno['yr_renovated'], y=reno['price'])\n",
    "sns.scatterplot(x=no_reno['yr_renovated'], y=no_reno['price'])"
   ]
  },
  {
   "cell_type": "markdown",
   "metadata": {},
   "source": [
    "The columns 'yr_renovated' is **categorical** so we'll alter data frame to represent this. Renovated homes will be represented by a 1 and non-renovated homes will be represented by a 0."
   ]
  },
  {
   "cell_type": "code",
   "execution_count": 12,
   "metadata": {
    "ExecuteTime": {
     "end_time": "2020-07-26T16:29:34.622457Z",
     "start_time": "2020-07-26T16:29:33.495983Z"
    }
   },
   "outputs": [],
   "source": [
    "for i in range(len(df['yr_renovated'])):\n",
    "    if df2['yr_renovated'].iloc[i] != 0.0:\n",
    "        df2['yr_renovated'].iloc[i] = 1.0\n",
    "# change name to just renovated\n",
    "df2 = df2.rename(columns={'yr_renovated' : 'renovated'})"
   ]
  },
  {
   "cell_type": "code",
   "execution_count": 13,
   "metadata": {
    "ExecuteTime": {
     "end_time": "2020-07-26T16:29:34.628409Z",
     "start_time": "2020-07-26T16:29:34.623417Z"
    }
   },
   "outputs": [],
   "source": [
    "# Changing to catagorical\n",
    "df2['renovated'] = df2['renovated'].astype('category')"
   ]
  },
  {
   "cell_type": "code",
   "execution_count": 14,
   "metadata": {
    "ExecuteTime": {
     "end_time": "2020-07-26T16:29:34.765341Z",
     "start_time": "2020-07-26T16:29:34.629409Z"
    }
   },
   "outputs": [
    {
     "data": {
      "text/plain": [
       "Index(['id', 'date', 'price', 'bedrooms', 'bathrooms', 'sqft_living',\n",
       "       'sqft_lot', 'floors', 'view', 'condition', 'grade', 'sqft_above',\n",
       "       'sqft_basement', 'yr_built', 'renovated', 'zipcode', 'lat', 'long',\n",
       "       'sqft_living15', 'sqft_lot15', 'waterfront_N', 'waterfront_Y',\n",
       "       'renovated_0.0', 'renovated_1.0'],\n",
       "      dtype='object')"
      ]
     },
     "execution_count": 14,
     "metadata": {},
     "output_type": "execute_result"
    }
   ],
   "source": [
    "# making dummies\n",
    "ren_dummies = pd.get_dummies(df2['renovated'],prefix='renovated')\n",
    "df2 = pd.concat([df2, ren_dummies], axis=1)\n",
    "df2.columns"
   ]
  },
  {
   "cell_type": "code",
   "execution_count": 15,
   "metadata": {
    "ExecuteTime": {
     "end_time": "2020-07-26T16:29:34.890848Z",
     "start_time": "2020-07-26T16:29:34.766332Z"
    }
   },
   "outputs": [],
   "source": [
    "# changing dummy names\n",
    "df2 = df2.rename(columns={'renovated_0.0':'not_renovated',\n",
    "                         'renovated_1.0':'is_renovated'})\n",
    "df2 = df2.drop('renovated', axis=1)"
   ]
  },
  {
   "cell_type": "markdown",
   "metadata": {},
   "source": [
    "## Yr_built"
   ]
  },
  {
   "cell_type": "code",
   "execution_count": 16,
   "metadata": {
    "ExecuteTime": {
     "end_time": "2020-07-26T16:29:35.248641Z",
     "start_time": "2020-07-26T16:29:34.891847Z"
    }
   },
   "outputs": [
    {
     "name": "stdout",
     "output_type": "stream",
     "text": [
      "2014    559\n",
      "2006    453\n",
      "2005    450\n",
      "2004    433\n",
      "2003    420\n",
      "       ... \n",
      "1933     30\n",
      "1901     29\n",
      "1902     27\n",
      "1935     24\n",
      "1934     21\n",
      "Name: yr_built, Length: 116, dtype: int64\n",
      "\n",
      "Number of null values:\n",
      "0\n"
     ]
    },
    {
     "data": {
      "text/plain": [
       "<matplotlib.axes._subplots.AxesSubplot at 0x247d11a7cc0>"
      ]
     },
     "execution_count": 16,
     "metadata": {},
     "output_type": "execute_result"
    },
    {
     "data": {
      "image/png": "[encoded data removed]",
      "text/plain": [
       "<Figure size 432x288 with 1 Axes>"
      ]
     },
     "metadata": {
      "needs_background": "light"
     },
     "output_type": "display_data"
    }
   ],
   "source": [
    "#viewing data values, checking for placeholders\n",
    "\n",
    "print(df2.yr_built.value_counts())\n",
    "print(\"\\nNumber of null values:\")\n",
    "print(df2.yr_built.isnull().sum())\n",
    "df2.yr_built.hist()"
   ]
  },
  {
   "cell_type": "code",
   "execution_count": 17,
   "metadata": {
    "ExecuteTime": {
     "end_time": "2020-07-26T16:29:35.259634Z",
     "start_time": "2020-07-26T16:29:35.249635Z"
    }
   },
   "outputs": [
    {
     "data": {
      "text/plain": [
       "114    559\n",
       "106    453\n",
       "105    450\n",
       "104    433\n",
       "103    420\n",
       "      ... \n",
       "33      30\n",
       "1       29\n",
       "2       27\n",
       "35      24\n",
       "34      21\n",
       "Name: yr_built, Length: 116, dtype: int64"
      ]
     },
     "execution_count": 17,
     "metadata": {},
     "output_type": "execute_result"
    }
   ],
   "source": [
    "# label-encoding so we don't flood the models with dummies\n",
    "df2['yr_built'] = df2['yr_built'].astype('category')\n",
    "df2['yr_built'] = df2.yr_built.cat.codes\n",
    "df2['yr_built'].value_counts()"
   ]
  },
  {
   "cell_type": "markdown",
   "metadata": {},
   "source": [
    "## Floors"
   ]
  },
  {
   "cell_type": "markdown",
   "metadata": {
    "ExecuteTime": {
     "end_time": "2020-07-26T14:30:33.214297Z",
     "start_time": "2020-07-26T14:30:33.211297Z"
    }
   },
   "source": [
    "Looking for placeholder values"
   ]
  },
  {
   "cell_type": "code",
   "execution_count": 18,
   "metadata": {
    "ExecuteTime": {
     "end_time": "2020-07-26T16:29:35.375840Z",
     "start_time": "2020-07-26T16:29:35.260615Z"
    }
   },
   "outputs": [
    {
     "data": {
      "text/plain": [
       "1.0    10673\n",
       "2.0     8235\n",
       "1.5     1910\n",
       "3.0      611\n",
       "2.5      161\n",
       "3.5        7\n",
       "Name: floors, dtype: int64"
      ]
     },
     "execution_count": 18,
     "metadata": {},
     "output_type": "execute_result"
    }
   ],
   "source": [
    "df2.floors.value_counts()"
   ]
  },
  {
   "cell_type": "code",
   "execution_count": 19,
   "metadata": {
    "ExecuteTime": {
     "end_time": "2020-07-26T16:29:35.652079Z",
     "start_time": "2020-07-26T16:29:35.377816Z"
    }
   },
   "outputs": [
    {
     "data": {
      "text/plain": [
       "Text(0, 0.5, 'value counts')"
      ]
     },
     "execution_count": 19,
     "metadata": {},
     "output_type": "execute_result"
    },
    {
     "data": {
      "image/png": "[encoded data removed]",
      "text/plain": [
       "<Figure size 432x288 with 1 Axes>"
      ]
     },
     "metadata": {
      "needs_background": "light"
     },
     "output_type": "display_data"
    }
   ],
   "source": [
    "# even though there are half-values, these are split-level homes.\n",
    "# treating them as categorical; using the binning method.\n",
    "\n",
    "bins = [0, 1, 2, 3, 4]\n",
    "bin_flr = pd.cut(df2['floors'], bins)\n",
    "bin_flr = bin_flr.cat.as_ordered()\n",
    "\n",
    "bin_flr.value_counts().plot(kind='bar')\n",
    "plt.title('floor bins')\n",
    "plt.xlabel('floor bins')\n",
    "plt.ylabel('value counts')"
   ]
  },
  {
   "cell_type": "code",
   "execution_count": 20,
   "metadata": {
    "ExecuteTime": {
     "end_time": "2020-07-26T16:29:35.680046Z",
     "start_time": "2020-07-26T16:29:35.653062Z"
    }
   },
   "outputs": [
    {
     "name": "stdout",
     "output_type": "stream",
     "text": [
      "<class 'pandas.core.frame.DataFrame'>\n",
      "RangeIndex: 21597 entries, 0 to 21596\n",
      "Data columns (total 26 columns):\n",
      "id               21597 non-null int64\n",
      "date             21597 non-null object\n",
      "price            21597 non-null float64\n",
      "bedrooms         21597 non-null int64\n",
      "bathrooms        21597 non-null float64\n",
      "sqft_living      21597 non-null int64\n",
      "sqft_lot         21597 non-null int64\n",
      "view             21534 non-null float64\n",
      "condition        21597 non-null int64\n",
      "grade            21597 non-null int64\n",
      "sqft_above       21597 non-null int64\n",
      "sqft_basement    21597 non-null object\n",
      "yr_built         21597 non-null int8\n",
      "zipcode          21597 non-null int64\n",
      "lat              21597 non-null float64\n",
      "long             21597 non-null float64\n",
      "sqft_living15    21597 non-null int64\n",
      "sqft_lot15       21597 non-null int64\n",
      "waterfront_N     21597 non-null int32\n",
      "waterfront_Y     21597 non-null int32\n",
      "not_renovated    21597 non-null uint8\n",
      "is_renovated     21597 non-null uint8\n",
      "floors_(0, 1]    21597 non-null uint8\n",
      "floors_(1, 2]    21597 non-null uint8\n",
      "floors_(2, 3]    21597 non-null uint8\n",
      "floors_(3, 4]    21597 non-null uint8\n",
      "dtypes: float64(5), int32(2), int64(10), int8(1), object(2), uint8(6)\n",
      "memory usage: 3.1+ MB\n"
     ]
    }
   ],
   "source": [
    "# now to afix this to our data frame and create dummies\n",
    "df2['floors'] = bin_flr\n",
    "df2['floors'] = df2['floors'].cat.codes\n",
    "\n",
    "# Creating dummies\n",
    "#keeping first column so future names make sense\n",
    "\n",
    "flrbin_dummies = pd.get_dummies(bin_flr, prefix='floors') \n",
    "\n",
    "\n",
    "df2 = df2.drop(['floors'], axis=1)\n",
    "df2 = pd.concat([df2, flrbin_dummies], axis=1)\n",
    "df2.info()"
   ]
  },
  {
   "cell_type": "code",
   "execution_count": 21,
   "metadata": {
    "ExecuteTime": {
     "end_time": "2020-07-26T16:29:35.867274Z",
     "start_time": "2020-07-26T16:29:35.681047Z"
    }
   },
   "outputs": [
    {
     "name": "stdout",
     "output_type": "stream",
     "text": [
      "<class 'pandas.core.frame.DataFrame'>\n",
      "RangeIndex: 21597 entries, 0 to 21596\n",
      "Data columns (total 26 columns):\n",
      "id               21597 non-null int64\n",
      "date             21597 non-null object\n",
      "price            21597 non-null float64\n",
      "bedrooms         21597 non-null int64\n",
      "bathrooms        21597 non-null float64\n",
      "sqft_living      21597 non-null int64\n",
      "sqft_lot         21597 non-null int64\n",
      "view             21534 non-null float64\n",
      "condition        21597 non-null int64\n",
      "grade            21597 non-null int64\n",
      "sqft_above       21597 non-null int64\n",
      "sqft_basement    21597 non-null object\n",
      "yr_built         21597 non-null int8\n",
      "zipcode          21597 non-null int64\n",
      "lat              21597 non-null float64\n",
      "long             21597 non-null float64\n",
      "sqft_living15    21597 non-null int64\n",
      "sqft_lot15       21597 non-null int64\n",
      "waterfront_N     21597 non-null int32\n",
      "waterfront_Y     21597 non-null int32\n",
      "not_renovated    21597 non-null uint8\n",
      "is_renovated     21597 non-null uint8\n",
      "floors_1         21597 non-null uint8\n",
      "floors_2         21597 non-null uint8\n",
      "floors_3         21597 non-null uint8\n",
      "floors_3_half    21597 non-null uint8\n",
      "dtypes: float64(5), int32(2), int64(10), int8(1), object(2), uint8(6)\n",
      "memory usage: 3.1+ MB\n"
     ]
    }
   ],
   "source": [
    "# renaming dummies\n",
    "df2 = df2.rename(columns={'floors_(0, 1]':'floors_1', \n",
    "                          'floors_(1, 2]':'floors_2', \n",
    "                          'floors_(2, 3]':'floors_3', \n",
    "                          'floors_(3, 4]':'floors_3_half'})\n",
    "df2.info()"
   ]
  },
  {
   "cell_type": "code",
   "execution_count": 22,
   "metadata": {
    "ExecuteTime": {
     "end_time": "2020-07-26T16:29:35.976199Z",
     "start_time": "2020-07-26T16:29:35.868258Z"
    }
   },
   "outputs": [
    {
     "data": {
      "text/plain": [
       "dtype('int32')"
      ]
     },
     "execution_count": 22,
     "metadata": {},
     "output_type": "execute_result"
    }
   ],
   "source": [
    "# fixing data types\n",
    "\n",
    "for col in df2.columns:\n",
    "    if df2[col].dtype == df2['floors_3_half'].dtype:\n",
    "        df2[col] = df2[col].astype(int)\n",
    "df2['floors_2'].dtype"
   ]
  },
  {
   "cell_type": "markdown",
   "metadata": {},
   "source": [
    "## View"
   ]
  },
  {
   "cell_type": "code",
   "execution_count": 23,
   "metadata": {
    "ExecuteTime": {
     "end_time": "2020-07-26T16:29:36.411056Z",
     "start_time": "2020-07-26T16:29:35.984192Z"
    }
   },
   "outputs": [
    {
     "name": "stdout",
     "output_type": "stream",
     "text": [
      "0.0    19422\n",
      "2.0      957\n",
      "3.0      508\n",
      "1.0      330\n",
      "4.0      317\n",
      "Name: view, dtype: int64\n",
      "id                0\n",
      "date              0\n",
      "price             0\n",
      "bedrooms          0\n",
      "bathrooms         0\n",
      "sqft_living       0\n",
      "sqft_lot          0\n",
      "view             63\n",
      "condition         0\n",
      "grade             0\n",
      "sqft_above        0\n",
      "sqft_basement     0\n",
      "yr_built          0\n",
      "zipcode           0\n",
      "lat               0\n",
      "long              0\n",
      "sqft_living15     0\n",
      "sqft_lot15        0\n",
      "waterfront_N      0\n",
      "waterfront_Y      0\n",
      "not_renovated     0\n",
      "is_renovated      0\n",
      "floors_1          0\n",
      "floors_2          0\n",
      "floors_3          0\n",
      "floors_3_half     0\n",
      "dtype: int64\n"
     ]
    },
    {
     "data": {
      "text/plain": [
       "<matplotlib.axes._subplots.AxesSubplot at 0x247d14164e0>"
      ]
     },
     "execution_count": 23,
     "metadata": {},
     "output_type": "execute_result"
    },
    {
     "data": {
      "image/png": "[encoded data removed]",
      "text/plain": [
       "<Figure size 432x288 with 1 Axes>"
      ]
     },
     "metadata": {
      "needs_background": "light"
     },
     "output_type": "display_data"
    }
   ],
   "source": [
    "# view column refers to how many times the home has been viewed\n",
    "print(df2.view.value_counts())\n",
    "print(df2.isnull().sum())\n",
    "df2.view.hist()"
   ]
  },
  {
   "cell_type": "code",
   "execution_count": 24,
   "metadata": {
    "ExecuteTime": {
     "end_time": "2020-07-26T16:29:36.419051Z",
     "start_time": "2020-07-26T16:29:36.413055Z"
    }
   },
   "outputs": [
    {
     "data": {
      "text/plain": [
       "0.0"
      ]
     },
     "execution_count": 24,
     "metadata": {},
     "output_type": "execute_result"
    }
   ],
   "source": [
    "# checking the median value\n",
    "med_vu = df2.view.median()\n",
    "med_vu"
   ]
  },
  {
   "cell_type": "code",
   "execution_count": 25,
   "metadata": {
    "ExecuteTime": {
     "end_time": "2020-07-26T16:29:36.514233Z",
     "start_time": "2020-07-26T16:29:36.420051Z"
    }
   },
   "outputs": [
    {
     "data": {
      "text/html": [
       "<div>\n",
       "<style scoped>\n",
       "    .dataframe tbody tr th:only-of-type {\n",
       "        vertical-align: middle;\n",
       "    }\n",
       "\n",
       "    .dataframe tbody tr th {\n",
       "        vertical-align: top;\n",
       "    }\n",
       "\n",
       "    .dataframe thead th {\n",
       "        text-align: right;\n",
       "    }\n",
       "</style>\n",
       "<table border=\"1\" class=\"dataframe\">\n",
       "  <thead>\n",
       "    <tr style=\"text-align: right;\">\n",
       "      <th></th>\n",
       "      <th>id</th>\n",
       "      <th>date</th>\n",
       "      <th>price</th>\n",
       "      <th>bedrooms</th>\n",
       "      <th>bathrooms</th>\n",
       "      <th>sqft_living</th>\n",
       "      <th>sqft_lot</th>\n",
       "      <th>view</th>\n",
       "      <th>condition</th>\n",
       "      <th>grade</th>\n",
       "      <th>...</th>\n",
       "      <th>sqft_living15</th>\n",
       "      <th>sqft_lot15</th>\n",
       "      <th>waterfront_N</th>\n",
       "      <th>waterfront_Y</th>\n",
       "      <th>not_renovated</th>\n",
       "      <th>is_renovated</th>\n",
       "      <th>floors_1</th>\n",
       "      <th>floors_2</th>\n",
       "      <th>floors_3</th>\n",
       "      <th>floors_3_half</th>\n",
       "    </tr>\n",
       "  </thead>\n",
       "  <tbody>\n",
       "    <tr>\n",
       "      <td>0</td>\n",
       "      <td>7129300520</td>\n",
       "      <td>10/13/2014</td>\n",
       "      <td>221900.0</td>\n",
       "      <td>3</td>\n",
       "      <td>1.00</td>\n",
       "      <td>1180</td>\n",
       "      <td>5650</td>\n",
       "      <td>0.0</td>\n",
       "      <td>3</td>\n",
       "      <td>7</td>\n",
       "      <td>...</td>\n",
       "      <td>1340</td>\n",
       "      <td>5650</td>\n",
       "      <td>1</td>\n",
       "      <td>0</td>\n",
       "      <td>1</td>\n",
       "      <td>0</td>\n",
       "      <td>1</td>\n",
       "      <td>0</td>\n",
       "      <td>0</td>\n",
       "      <td>0</td>\n",
       "    </tr>\n",
       "    <tr>\n",
       "      <td>1</td>\n",
       "      <td>6414100192</td>\n",
       "      <td>12/9/2014</td>\n",
       "      <td>538000.0</td>\n",
       "      <td>3</td>\n",
       "      <td>2.25</td>\n",
       "      <td>2570</td>\n",
       "      <td>7242</td>\n",
       "      <td>0.0</td>\n",
       "      <td>3</td>\n",
       "      <td>7</td>\n",
       "      <td>...</td>\n",
       "      <td>1690</td>\n",
       "      <td>7639</td>\n",
       "      <td>1</td>\n",
       "      <td>0</td>\n",
       "      <td>0</td>\n",
       "      <td>1</td>\n",
       "      <td>0</td>\n",
       "      <td>1</td>\n",
       "      <td>0</td>\n",
       "      <td>0</td>\n",
       "    </tr>\n",
       "    <tr>\n",
       "      <td>2</td>\n",
       "      <td>5631500400</td>\n",
       "      <td>2/25/2015</td>\n",
       "      <td>180000.0</td>\n",
       "      <td>2</td>\n",
       "      <td>1.00</td>\n",
       "      <td>770</td>\n",
       "      <td>10000</td>\n",
       "      <td>0.0</td>\n",
       "      <td>3</td>\n",
       "      <td>6</td>\n",
       "      <td>...</td>\n",
       "      <td>2720</td>\n",
       "      <td>8062</td>\n",
       "      <td>1</td>\n",
       "      <td>0</td>\n",
       "      <td>0</td>\n",
       "      <td>1</td>\n",
       "      <td>1</td>\n",
       "      <td>0</td>\n",
       "      <td>0</td>\n",
       "      <td>0</td>\n",
       "    </tr>\n",
       "    <tr>\n",
       "      <td>3</td>\n",
       "      <td>2487200875</td>\n",
       "      <td>12/9/2014</td>\n",
       "      <td>604000.0</td>\n",
       "      <td>4</td>\n",
       "      <td>3.00</td>\n",
       "      <td>1960</td>\n",
       "      <td>5000</td>\n",
       "      <td>0.0</td>\n",
       "      <td>5</td>\n",
       "      <td>7</td>\n",
       "      <td>...</td>\n",
       "      <td>1360</td>\n",
       "      <td>5000</td>\n",
       "      <td>1</td>\n",
       "      <td>0</td>\n",
       "      <td>1</td>\n",
       "      <td>0</td>\n",
       "      <td>1</td>\n",
       "      <td>0</td>\n",
       "      <td>0</td>\n",
       "      <td>0</td>\n",
       "    </tr>\n",
       "    <tr>\n",
       "      <td>4</td>\n",
       "      <td>1954400510</td>\n",
       "      <td>2/18/2015</td>\n",
       "      <td>510000.0</td>\n",
       "      <td>3</td>\n",
       "      <td>2.00</td>\n",
       "      <td>1680</td>\n",
       "      <td>8080</td>\n",
       "      <td>0.0</td>\n",
       "      <td>3</td>\n",
       "      <td>8</td>\n",
       "      <td>...</td>\n",
       "      <td>1800</td>\n",
       "      <td>7503</td>\n",
       "      <td>1</td>\n",
       "      <td>0</td>\n",
       "      <td>1</td>\n",
       "      <td>0</td>\n",
       "      <td>1</td>\n",
       "      <td>0</td>\n",
       "      <td>0</td>\n",
       "      <td>0</td>\n",
       "    </tr>\n",
       "  </tbody>\n",
       "</table>\n",
       "<p>5 rows × 26 columns</p>\n",
       "</div>"
      ],
      "text/plain": [
       "           id        date     price  bedrooms  bathrooms  sqft_living  \\\n",
       "0  7129300520  10/13/2014  221900.0         3       1.00         1180   \n",
       "1  6414100192   12/9/2014  538000.0         3       2.25         2570   \n",
       "2  5631500400   2/25/2015  180000.0         2       1.00          770   \n",
       "3  2487200875   12/9/2014  604000.0         4       3.00         1960   \n",
       "4  1954400510   2/18/2015  510000.0         3       2.00         1680   \n",
       "\n",
       "   sqft_lot  view  condition  grade  ...  sqft_living15 sqft_lot15  \\\n",
       "0      5650   0.0          3      7  ...           1340       5650   \n",
       "1      7242   0.0          3      7  ...           1690       7639   \n",
       "2     10000   0.0          3      6  ...           2720       8062   \n",
       "3      5000   0.0          5      7  ...           1360       5000   \n",
       "4      8080   0.0          3      8  ...           1800       7503   \n",
       "\n",
       "   waterfront_N  waterfront_Y  not_renovated  is_renovated  floors_1  \\\n",
       "0             1             0              1             0         1   \n",
       "1             1             0              0             1         0   \n",
       "2             1             0              0             1         1   \n",
       "3             1             0              1             0         1   \n",
       "4             1             0              1             0         1   \n",
       "\n",
       "   floors_2  floors_3  floors_3_half  \n",
       "0         0         0              0  \n",
       "1         1         0              0  \n",
       "2         0         0              0  \n",
       "3         0         0              0  \n",
       "4         0         0              0  \n",
       "\n",
       "[5 rows x 26 columns]"
      ]
     },
     "execution_count": 25,
     "metadata": {},
     "output_type": "execute_result"
    }
   ],
   "source": [
    "# Only makes up 0.29% of total data, fill with median.\n",
    "df2.fillna(value=med_vu, inplace=True)\n",
    "df2.head()"
   ]
  },
  {
   "cell_type": "code",
   "execution_count": 26,
   "metadata": {
    "ExecuteTime": {
     "end_time": "2020-07-26T16:29:37.349831Z",
     "start_time": "2020-07-26T16:29:36.515236Z"
    }
   },
   "outputs": [
    {
     "data": {
      "text/plain": [
       "0.0    19485\n",
       "1.0     2112\n",
       "Name: view, dtype: int64"
      ]
     },
     "execution_count": 26,
     "metadata": {},
     "output_type": "execute_result"
    }
   ],
   "source": [
    "# Since homes that have not been viewed far exceeds the number of homes viewed\n",
    "# we'll split this into 2 categories of have and have not been viewed\n",
    "\n",
    "for i in range(len(df['view'])):\n",
    "    if df2['view'].iloc[i] != 0.0:\n",
    "        df2['view'].iloc[i] = 1.0\n",
    "df2.view.value_counts()\n"
   ]
  },
  {
   "cell_type": "code",
   "execution_count": 27,
   "metadata": {
    "ExecuteTime": {
     "end_time": "2020-07-26T16:29:37.360826Z",
     "start_time": "2020-07-26T16:29:37.350831Z"
    }
   },
   "outputs": [
    {
     "data": {
      "text/plain": [
       "Index(['id', 'date', 'price', 'bedrooms', 'bathrooms', 'sqft_living',\n",
       "       'sqft_lot', 'view', 'condition', 'grade', 'sqft_above', 'sqft_basement',\n",
       "       'yr_built', 'zipcode', 'lat', 'long', 'sqft_living15', 'sqft_lot15',\n",
       "       'waterfront_N', 'waterfront_Y', 'not_renovated', 'is_renovated',\n",
       "       'floors_1', 'floors_2', 'floors_3', 'floors_3_half', 'view_0.0',\n",
       "       'view_1.0'],\n",
       "      dtype='object')"
      ]
     },
     "execution_count": 27,
     "metadata": {},
     "output_type": "execute_result"
    }
   ],
   "source": [
    "# making dummies\n",
    "vu_dummies = pd.get_dummies(df2['view'],prefix='view')\n",
    "df2 = pd.concat([df2, vu_dummies], axis=1)\n",
    "df2.columns"
   ]
  },
  {
   "cell_type": "code",
   "execution_count": 28,
   "metadata": {
    "ExecuteTime": {
     "end_time": "2020-07-26T16:29:37.519203Z",
     "start_time": "2020-07-26T16:29:37.361823Z"
    }
   },
   "outputs": [],
   "source": [
    "# changing dummy names\n",
    "df2 = df2.rename(columns={'view_0.0':'not_viewed',\n",
    "                         'view_1.0':'viewed'})\n",
    "df2 = df2.drop('view', axis=1)"
   ]
  },
  {
   "cell_type": "code",
   "execution_count": 29,
   "metadata": {
    "ExecuteTime": {
     "end_time": "2020-07-26T16:29:37.659773Z",
     "start_time": "2020-07-26T16:29:37.521202Z"
    }
   },
   "outputs": [
    {
     "name": "stdout",
     "output_type": "stream",
     "text": [
      "<class 'pandas.core.frame.DataFrame'>\n",
      "RangeIndex: 21597 entries, 0 to 21596\n",
      "Data columns (total 27 columns):\n",
      "id               21597 non-null int64\n",
      "date             21597 non-null object\n",
      "price            21597 non-null float64\n",
      "bedrooms         21597 non-null int64\n",
      "bathrooms        21597 non-null float64\n",
      "sqft_living      21597 non-null int64\n",
      "sqft_lot         21597 non-null int64\n",
      "condition        21597 non-null int64\n",
      "grade            21597 non-null int64\n",
      "sqft_above       21597 non-null int64\n",
      "sqft_basement    21597 non-null object\n",
      "yr_built         21597 non-null int8\n",
      "zipcode          21597 non-null int64\n",
      "lat              21597 non-null float64\n",
      "long             21597 non-null float64\n",
      "sqft_living15    21597 non-null int64\n",
      "sqft_lot15       21597 non-null int64\n",
      "waterfront_N     21597 non-null int32\n",
      "waterfront_Y     21597 non-null int32\n",
      "not_renovated    21597 non-null int32\n",
      "is_renovated     21597 non-null int32\n",
      "floors_1         21597 non-null int32\n",
      "floors_2         21597 non-null int32\n",
      "floors_3         21597 non-null int32\n",
      "floors_3_half    21597 non-null int32\n",
      "not_viewed       21597 non-null uint8\n",
      "viewed           21597 non-null uint8\n",
      "dtypes: float64(4), int32(8), int64(10), int8(1), object(2), uint8(2)\n",
      "memory usage: 3.4+ MB\n"
     ]
    }
   ],
   "source": [
    "df2.info()"
   ]
  },
  {
   "cell_type": "markdown",
   "metadata": {},
   "source": [
    "To save time, we'll fix the data types when we finish making dummy variables. "
   ]
  },
  {
   "cell_type": "markdown",
   "metadata": {},
   "source": [
    "## Date"
   ]
  },
  {
   "cell_type": "code",
   "execution_count": 30,
   "metadata": {
    "ExecuteTime": {
     "end_time": "2020-07-26T16:29:37.755992Z",
     "start_time": "2020-07-26T16:29:37.661774Z"
    }
   },
   "outputs": [
    {
     "data": {
      "text/plain": [
       "0    10/13/2014\n",
       "1     12/9/2014\n",
       "2     2/25/2015\n",
       "3     12/9/2014\n",
       "4     2/18/2015\n",
       "Name: date, dtype: object"
      ]
     },
     "execution_count": 30,
     "metadata": {},
     "output_type": "execute_result"
    }
   ],
   "source": [
    "# Time to deal with object types.\n",
    "import datetime as dt\n",
    "df2.date.head()"
   ]
  },
  {
   "cell_type": "code",
   "execution_count": 31,
   "metadata": {
    "ExecuteTime": {
     "end_time": "2020-07-26T16:29:37.937328Z",
     "start_time": "2020-07-26T16:29:37.756990Z"
    }
   },
   "outputs": [],
   "source": [
    "# convert 'date' to datetime, then creating 2 new columns so that we can work\n",
    "# with numerical data\n",
    "df2.date = pd.to_datetime(df['date'])\n",
    "df2['month'] = df2['date'].dt.month\n",
    "df2['day_of_year'] = df2['date'].dt.dayofyear"
   ]
  },
  {
   "cell_type": "code",
   "execution_count": 32,
   "metadata": {
    "ExecuteTime": {
     "end_time": "2020-07-26T16:29:37.993582Z",
     "start_time": "2020-07-26T16:29:37.938295Z"
    }
   },
   "outputs": [],
   "source": [
    "# converting day of year to category\n",
    "# label encoding\n",
    "df2['day_of_year'] = df2['day_of_year'].astype('category')\n",
    "df2['day_of_year'] = df2.day_of_year.cat.codes"
   ]
  },
  {
   "cell_type": "markdown",
   "metadata": {},
   "source": [
    "## Sqft_Basement"
   ]
  },
  {
   "cell_type": "code",
   "execution_count": 33,
   "metadata": {
    "ExecuteTime": {
     "end_time": "2020-07-26T16:29:38.117521Z",
     "start_time": "2020-07-26T16:29:37.994566Z"
    }
   },
   "outputs": [
    {
     "data": {
      "text/plain": [
       "0.0       12826\n",
       "?           454\n",
       "600.0       217\n",
       "500.0       209\n",
       "700.0       208\n",
       "          ...  \n",
       "4130.0        1\n",
       "2300.0        1\n",
       "2600.0        1\n",
       "172.0         1\n",
       "1525.0        1\n",
       "Name: sqft_basement, Length: 304, dtype: int64"
      ]
     },
     "execution_count": 33,
     "metadata": {},
     "output_type": "execute_result"
    }
   ],
   "source": [
    "# inspecting sqft_basement values\n",
    "df2['sqft_basement'].value_counts()"
   ]
  },
  {
   "cell_type": "code",
   "execution_count": 34,
   "metadata": {
    "ExecuteTime": {
     "end_time": "2020-07-26T16:29:38.690869Z",
     "start_time": "2020-07-26T16:29:38.118503Z"
    }
   },
   "outputs": [
    {
     "data": {
      "text/plain": [
       "0.0       13280\n",
       "600.0       217\n",
       "500.0       209\n",
       "700.0       208\n",
       "800.0       201\n",
       "          ...  \n",
       "1770.0        1\n",
       "2180.0        1\n",
       "946.0         1\n",
       "2610.0        1\n",
       "1913.0        1\n",
       "Name: sqft_basement, Length: 303, dtype: int64"
      ]
     },
     "execution_count": 34,
     "metadata": {},
     "output_type": "execute_result"
    }
   ],
   "source": [
    "# 452 values of '?'. Makes up 2.1% of our data. Replace with median value.\n",
    "med_bsmt = df2[df2['sqft_basement'] != '?']\n",
    "med = med_bsmt.sqft_basement.median()\n",
    "\n",
    "for i in range(len(df['sqft_basement'])):\n",
    "    if df2['sqft_basement'].iloc[i] == '?':\n",
    "        df2['sqft_basement'].iloc[i] = str(med)\n",
    "\n",
    "\n",
    "df2.sqft_basement.value_counts()"
   ]
  },
  {
   "cell_type": "code",
   "execution_count": 35,
   "metadata": {
    "ExecuteTime": {
     "end_time": "2020-07-26T16:29:38.699882Z",
     "start_time": "2020-07-26T16:29:38.691869Z"
    }
   },
   "outputs": [
    {
     "data": {
      "text/plain": [
       "dtype('float64')"
      ]
     },
     "execution_count": 35,
     "metadata": {},
     "output_type": "execute_result"
    }
   ],
   "source": [
    "# convert to float\n",
    "df2['sqft_basement'] = df2.sqft_basement.astype(float)\n",
    "df2.sqft_basement.dtype"
   ]
  },
  {
   "cell_type": "code",
   "execution_count": 36,
   "metadata": {
    "ExecuteTime": {
     "end_time": "2020-07-26T16:29:42.950276Z",
     "start_time": "2020-07-26T16:29:38.700863Z"
    }
   },
   "outputs": [
    {
     "data": {
      "text/plain": [
       "0    0.0\n",
       "1    1.0\n",
       "2    0.0\n",
       "3    1.0\n",
       "4    0.0\n",
       "Name: basement, dtype: float64"
      ]
     },
     "execution_count": 36,
     "metadata": {},
     "output_type": "execute_result"
    }
   ],
   "source": [
    "# creating a new column that will represent whether or not a home has a \n",
    "# basement\n",
    "df2['basement'] = np.nan\n",
    "\n",
    "for i in range(len(df2['sqft_basement'])):\n",
    "    if df2['sqft_basement'].iloc[i] != 0.0:\n",
    "        df2['basement'].iloc[i] = 1\n",
    "    else:\n",
    "        df2['basement'].iloc[i] = 0\n",
    "        \n",
    "df2.basement.head()"
   ]
  },
  {
   "cell_type": "code",
   "execution_count": 37,
   "metadata": {
    "ExecuteTime": {
     "end_time": "2020-07-26T16:29:42.964817Z",
     "start_time": "2020-07-26T16:29:42.951277Z"
    }
   },
   "outputs": [
    {
     "data": {
      "text/plain": [
       "Index(['id', 'date', 'price', 'bedrooms', 'bathrooms', 'sqft_living',\n",
       "       'sqft_lot', 'condition', 'grade', 'sqft_above', 'sqft_basement',\n",
       "       'yr_built', 'zipcode', 'lat', 'long', 'sqft_living15', 'sqft_lot15',\n",
       "       'waterfront_N', 'waterfront_Y', 'not_renovated', 'is_renovated',\n",
       "       'floors_1', 'floors_2', 'floors_3', 'floors_3_half', 'not_viewed',\n",
       "       'viewed', 'month', 'day_of_year', 'basement', 'basement_0.0',\n",
       "       'basement_1.0'],\n",
       "      dtype='object')"
      ]
     },
     "execution_count": 37,
     "metadata": {},
     "output_type": "execute_result"
    }
   ],
   "source": [
    "# making dummies\n",
    "bsm_dummies = pd.get_dummies(df2['basement'],prefix='basement')\n",
    "df2 = pd.concat([df2, bsm_dummies], axis=1)\n",
    "df2.columns\n",
    "\n"
   ]
  },
  {
   "cell_type": "code",
   "execution_count": 38,
   "metadata": {
    "ExecuteTime": {
     "end_time": "2020-07-26T16:29:43.065035Z",
     "start_time": "2020-07-26T16:29:42.965824Z"
    },
    "scrolled": true
   },
   "outputs": [
    {
     "name": "stdout",
     "output_type": "stream",
     "text": [
      "<class 'pandas.core.frame.DataFrame'>\n",
      "RangeIndex: 21597 entries, 0 to 21596\n",
      "Data columns (total 31 columns):\n",
      "id               21597 non-null int64\n",
      "date             21597 non-null datetime64[ns]\n",
      "price            21597 non-null float64\n",
      "bedrooms         21597 non-null int64\n",
      "bathrooms        21597 non-null float64\n",
      "sqft_living      21597 non-null int64\n",
      "sqft_lot         21597 non-null int64\n",
      "condition        21597 non-null int64\n",
      "grade            21597 non-null int64\n",
      "sqft_above       21597 non-null int64\n",
      "sqft_basement    21597 non-null float64\n",
      "yr_built         21597 non-null int8\n",
      "zipcode          21597 non-null int64\n",
      "lat              21597 non-null float64\n",
      "long             21597 non-null float64\n",
      "sqft_living15    21597 non-null int64\n",
      "sqft_lot15       21597 non-null int64\n",
      "waterfront_N     21597 non-null int32\n",
      "waterfront_Y     21597 non-null int32\n",
      "not_renovated    21597 non-null int32\n",
      "is_renovated     21597 non-null int32\n",
      "floors_1         21597 non-null int32\n",
      "floors_2         21597 non-null int32\n",
      "floors_3         21597 non-null int32\n",
      "floors_3_half    21597 non-null int32\n",
      "not_viewed       21597 non-null uint8\n",
      "viewed           21597 non-null uint8\n",
      "month            21597 non-null int64\n",
      "day_of_year      21597 non-null int16\n",
      "no_basement      21597 non-null uint8\n",
      "has_basement     21597 non-null uint8\n",
      "dtypes: datetime64[ns](1), float64(5), int16(1), int32(8), int64(11), int8(1), uint8(4)\n",
      "memory usage: 3.6 MB\n"
     ]
    }
   ],
   "source": [
    "# changing dummy names\n",
    "df2 = df2.rename(columns={'basement_0.0':'no_basement',\n",
    "                         'basement_1.0':'has_basement'})\n",
    "df2 = df2.drop('basement', axis=1)\n",
    "\n",
    "df2.info()"
   ]
  },
  {
   "cell_type": "markdown",
   "metadata": {},
   "source": [
    "### Feature Engineering: Total Home Square Footage"
   ]
  },
  {
   "cell_type": "code",
   "execution_count": 39,
   "metadata": {
    "ExecuteTime": {
     "end_time": "2020-07-26T16:29:43.151118Z",
     "start_time": "2020-07-26T16:29:43.066033Z"
    }
   },
   "outputs": [
    {
     "name": "stdout",
     "output_type": "stream",
     "text": [
      "<class 'pandas.core.frame.DataFrame'>\n",
      "RangeIndex: 21597 entries, 0 to 21596\n",
      "Data columns (total 32 columns):\n",
      "id                 21597 non-null int64\n",
      "date               21597 non-null datetime64[ns]\n",
      "price              21597 non-null float64\n",
      "bedrooms           21597 non-null int64\n",
      "bathrooms          21597 non-null float64\n",
      "sqft_living        21597 non-null int64\n",
      "sqft_lot           21597 non-null int64\n",
      "condition          21597 non-null int64\n",
      "grade              21597 non-null int64\n",
      "sqft_above         21597 non-null int64\n",
      "sqft_basement      21597 non-null float64\n",
      "yr_built           21597 non-null int8\n",
      "zipcode            21597 non-null int64\n",
      "lat                21597 non-null float64\n",
      "long               21597 non-null float64\n",
      "sqft_living15      21597 non-null int64\n",
      "sqft_lot15         21597 non-null int64\n",
      "waterfront_N       21597 non-null int32\n",
      "waterfront_Y       21597 non-null int32\n",
      "not_renovated      21597 non-null int32\n",
      "is_renovated       21597 non-null int32\n",
      "floors_1           21597 non-null int32\n",
      "floors_2           21597 non-null int32\n",
      "floors_3           21597 non-null int32\n",
      "floors_3_half      21597 non-null int32\n",
      "not_viewed         21597 non-null uint8\n",
      "viewed             21597 non-null uint8\n",
      "month              21597 non-null int64\n",
      "day_of_year        21597 non-null int16\n",
      "no_basement        21597 non-null uint8\n",
      "has_basement       21597 non-null uint8\n",
      "total_home_sqft    21597 non-null float64\n",
      "dtypes: datetime64[ns](1), float64(6), int16(1), int32(8), int64(11), int8(1), uint8(4)\n",
      "memory usage: 3.8 MB\n"
     ]
    }
   ],
   "source": [
    "# because the presence of a basement adds to the total space of a home, we're \n",
    "# going to create a new column that adds basement space and living space\n",
    "df2['total_home_sqft'] = df2['sqft_living'] + df2['sqft_basement']\n",
    "df2.info()"
   ]
  },
  {
   "cell_type": "code",
   "execution_count": 40,
   "metadata": {
    "ExecuteTime": {
     "end_time": "2020-07-26T16:29:43.249315Z",
     "start_time": "2020-07-26T16:29:43.155117Z"
    }
   },
   "outputs": [
    {
     "name": "stdout",
     "output_type": "stream",
     "text": [
      "<class 'pandas.core.frame.DataFrame'>\n",
      "RangeIndex: 21597 entries, 0 to 21596\n",
      "Data columns (total 31 columns):\n",
      "id                 21597 non-null int64\n",
      "date               21597 non-null datetime64[ns]\n",
      "price              21597 non-null float64\n",
      "bedrooms           21597 non-null int64\n",
      "bathrooms          21597 non-null float64\n",
      "sqft_living        21597 non-null int64\n",
      "sqft_lot           21597 non-null int64\n",
      "condition          21597 non-null int64\n",
      "grade              21597 non-null int64\n",
      "sqft_above         21597 non-null int64\n",
      "yr_built           21597 non-null int8\n",
      "zipcode            21597 non-null int64\n",
      "lat                21597 non-null float64\n",
      "long               21597 non-null float64\n",
      "sqft_living15      21597 non-null int64\n",
      "sqft_lot15         21597 non-null int64\n",
      "waterfront_N       21597 non-null int32\n",
      "waterfront_Y       21597 non-null int32\n",
      "not_renovated      21597 non-null int32\n",
      "is_renovated       21597 non-null int32\n",
      "floors_1           21597 non-null int32\n",
      "floors_2           21597 non-null int32\n",
      "floors_3           21597 non-null int32\n",
      "floors_3_half      21597 non-null int32\n",
      "not_viewed         21597 non-null uint8\n",
      "viewed             21597 non-null uint8\n",
      "month              21597 non-null int64\n",
      "day_of_year        21597 non-null int16\n",
      "no_basement        21597 non-null uint8\n",
      "has_basement       21597 non-null uint8\n",
      "total_home_sqft    21597 non-null float64\n",
      "dtypes: datetime64[ns](1), float64(5), int16(1), int32(8), int64(11), int8(1), uint8(4)\n",
      "memory usage: 3.6 MB\n"
     ]
    }
   ],
   "source": [
    "# now we can drop 'sqft_basement'\n",
    "df2 = df2.drop('sqft_basement', axis=1)\n",
    "df2.info()"
   ]
  },
  {
   "cell_type": "markdown",
   "metadata": {},
   "source": [
    "## Zip Codes and Quadrants"
   ]
  },
  {
   "cell_type": "code",
   "execution_count": 41,
   "metadata": {
    "ExecuteTime": {
     "end_time": "2020-07-26T16:29:43.322695Z",
     "start_time": "2020-07-26T16:29:43.250315Z"
    }
   },
   "outputs": [
    {
     "data": {
      "text/plain": [
       "70"
      ]
     },
     "execution_count": 41,
     "metadata": {},
     "output_type": "execute_result"
    }
   ],
   "source": [
    "# checking the number of zipcodes\n",
    "zips = len(df2['zipcode'].unique())\n",
    "zips"
   ]
  },
  {
   "cell_type": "code",
   "execution_count": 42,
   "metadata": {
    "ExecuteTime": {
     "end_time": "2020-07-26T16:29:43.405228Z",
     "start_time": "2020-07-26T16:29:43.323693Z"
    }
   },
   "outputs": [
    {
     "data": {
      "text/plain": [
       "0"
      ]
     },
     "execution_count": 42,
     "metadata": {},
     "output_type": "execute_result"
    }
   ],
   "source": [
    "df2.zipcode.isna().sum()"
   ]
  },
  {
   "cell_type": "code",
   "execution_count": 43,
   "metadata": {
    "ExecuteTime": {
     "end_time": "2020-07-26T16:29:43.499082Z",
     "start_time": "2020-07-26T16:29:43.406218Z"
    }
   },
   "outputs": [
    {
     "data": {
      "text/plain": [
       "98103    602\n",
       "98038    589\n",
       "98115    583\n",
       "98052    574\n",
       "98117    553\n",
       "        ... \n",
       "98102    104\n",
       "98010    100\n",
       "98024     80\n",
       "98148     57\n",
       "98039     50\n",
       "Name: zipcode, Length: 70, dtype: int64"
      ]
     },
     "execution_count": 43,
     "metadata": {},
     "output_type": "execute_result"
    }
   ],
   "source": [
    "# Checking for placeholders\n",
    "df2.zipcode.value_counts()"
   ]
  },
  {
   "cell_type": "code",
   "execution_count": 44,
   "metadata": {
    "ExecuteTime": {
     "end_time": "2020-07-26T16:29:45.317339Z",
     "start_time": "2020-07-26T16:29:43.500070Z"
    }
   },
   "outputs": [
    {
     "data": {
      "text/plain": [
       "<matplotlib.legend.Legend at 0x247d202fbe0>"
      ]
     },
     "execution_count": 44,
     "metadata": {},
     "output_type": "execute_result"
    },
    {
     "data": {
      "image/png": "[encoded data removed]",
      "text/plain": [
       "<Figure size 576x576 with 1 Axes>"
      ]
     },
     "metadata": {
      "needs_background": "light"
     },
     "output_type": "display_data"
    }
   ],
   "source": [
    "# Making Quadrants\n",
    "long = df2['long']\n",
    "lat = df2['lat']\n",
    "plt.figure(figsize=(8,8))\n",
    "sns.scatterplot(x=long, y=lat, hue='price', data=df2, palette='Paired')\n",
    "plt.title('Home Coordinates with Price Indexed by Color')\n",
    "plt.legend(fancybox=True)"
   ]
  },
  {
   "cell_type": "code",
   "execution_count": 45,
   "metadata": {
    "ExecuteTime": {
     "end_time": "2020-07-26T16:29:45.344775Z",
     "start_time": "2020-07-26T16:29:45.318339Z"
    }
   },
   "outputs": [],
   "source": [
    "# splitting into 4 quadrants\n",
    "\n",
    "df2.loc[(df2['lat'] > 47.5) & (df2['long'] < -121.9), \n",
    "            \"quad_1\"] = 1\n",
    "df2.loc[(df2['lat'] >= 47.5) & (df2['long'] >= -121.9), \n",
    "            \"quad_2\"] = 1\n",
    "df2.loc[(df2['lat'] < 47.5) & (df2['long'] < -121.9), \n",
    "            \"quad_3\"] = 1\n",
    "df2.loc[(df2['lat'] < 47.5) & (df2['long'] > -121.9), \n",
    "            \"quad_4\"] = 1"
   ]
  },
  {
   "cell_type": "code",
   "execution_count": 46,
   "metadata": {
    "ExecuteTime": {
     "end_time": "2020-07-26T16:29:45.478510Z",
     "start_time": "2020-07-26T16:29:45.346780Z"
    }
   },
   "outputs": [
    {
     "data": {
      "text/plain": [
       "id                     0\n",
       "date                   0\n",
       "price                  0\n",
       "bedrooms               0\n",
       "bathrooms              0\n",
       "sqft_living            0\n",
       "sqft_lot               0\n",
       "condition              0\n",
       "grade                  0\n",
       "sqft_above             0\n",
       "yr_built               0\n",
       "zipcode                0\n",
       "lat                    0\n",
       "long                   0\n",
       "sqft_living15          0\n",
       "sqft_lot15             0\n",
       "waterfront_N           0\n",
       "waterfront_Y           0\n",
       "not_renovated          0\n",
       "is_renovated           0\n",
       "floors_1               0\n",
       "floors_2               0\n",
       "floors_3               0\n",
       "floors_3_half          0\n",
       "not_viewed             0\n",
       "viewed                 0\n",
       "month                  0\n",
       "day_of_year            0\n",
       "no_basement            0\n",
       "has_basement           0\n",
       "total_home_sqft        0\n",
       "quad_1              7012\n",
       "quad_2             21189\n",
       "quad_3             15211\n",
       "quad_4             21383\n",
       "dtype: int64"
      ]
     },
     "execution_count": 46,
     "metadata": {},
     "output_type": "execute_result"
    }
   ],
   "source": [
    "df2.isna().sum()"
   ]
  },
  {
   "cell_type": "code",
   "execution_count": 47,
   "metadata": {
    "ExecuteTime": {
     "end_time": "2020-07-26T16:29:45.622690Z",
     "start_time": "2020-07-26T16:29:45.479523Z"
    }
   },
   "outputs": [
    {
     "name": "stdout",
     "output_type": "stream",
     "text": [
      "(21597, 35)\n"
     ]
    },
    {
     "data": {
      "text/plain": [
       "id                 0\n",
       "date               0\n",
       "price              0\n",
       "bedrooms           0\n",
       "bathrooms          0\n",
       "sqft_living        0\n",
       "sqft_lot           0\n",
       "condition          0\n",
       "grade              0\n",
       "sqft_above         0\n",
       "yr_built           0\n",
       "zipcode            0\n",
       "lat                0\n",
       "long               0\n",
       "sqft_living15      0\n",
       "sqft_lot15         0\n",
       "waterfront_N       0\n",
       "waterfront_Y       0\n",
       "not_renovated      0\n",
       "is_renovated       0\n",
       "floors_1           0\n",
       "floors_2           0\n",
       "floors_3           0\n",
       "floors_3_half      0\n",
       "not_viewed         0\n",
       "viewed             0\n",
       "month              0\n",
       "day_of_year        0\n",
       "no_basement        0\n",
       "has_basement       0\n",
       "total_home_sqft    0\n",
       "quad_1             0\n",
       "quad_2             0\n",
       "quad_3             0\n",
       "quad_4             0\n",
       "dtype: int64"
      ]
     },
     "execution_count": 47,
     "metadata": {},
     "output_type": "execute_result"
    }
   ],
   "source": [
    "# missing values are homes not in those quadrants, replacing with zeroes\n",
    "\n",
    "df2 = df2.fillna(value=0)\n",
    "print(df2.shape)\n",
    "df2.isna().sum()"
   ]
  },
  {
   "cell_type": "code",
   "execution_count": 48,
   "metadata": {
    "ExecuteTime": {
     "end_time": "2020-07-26T16:29:45.761710Z",
     "start_time": "2020-07-26T16:29:45.623684Z"
    }
   },
   "outputs": [
    {
     "data": {
      "text/html": [
       "<div>\n",
       "<style scoped>\n",
       "    .dataframe tbody tr th:only-of-type {\n",
       "        vertical-align: middle;\n",
       "    }\n",
       "\n",
       "    .dataframe tbody tr th {\n",
       "        vertical-align: top;\n",
       "    }\n",
       "\n",
       "    .dataframe thead th {\n",
       "        text-align: right;\n",
       "    }\n",
       "</style>\n",
       "<table border=\"1\" class=\"dataframe\">\n",
       "  <thead>\n",
       "    <tr style=\"text-align: right;\">\n",
       "      <th></th>\n",
       "      <th>id</th>\n",
       "      <th>date</th>\n",
       "      <th>price</th>\n",
       "      <th>bedrooms</th>\n",
       "      <th>bathrooms</th>\n",
       "      <th>sqft_living</th>\n",
       "      <th>sqft_lot</th>\n",
       "      <th>condition</th>\n",
       "      <th>grade</th>\n",
       "      <th>sqft_above</th>\n",
       "      <th>...</th>\n",
       "      <th>viewed</th>\n",
       "      <th>month</th>\n",
       "      <th>day_of_year</th>\n",
       "      <th>no_basement</th>\n",
       "      <th>has_basement</th>\n",
       "      <th>total_home_sqft</th>\n",
       "      <th>quad_1</th>\n",
       "      <th>quad_2</th>\n",
       "      <th>quad_3</th>\n",
       "      <th>quad_4</th>\n",
       "    </tr>\n",
       "  </thead>\n",
       "  <tbody>\n",
       "    <tr>\n",
       "      <td>0</td>\n",
       "      <td>7129300520</td>\n",
       "      <td>2014-10-13</td>\n",
       "      <td>221900.0</td>\n",
       "      <td>3</td>\n",
       "      <td>1.00</td>\n",
       "      <td>1180</td>\n",
       "      <td>5650</td>\n",
       "      <td>3</td>\n",
       "      <td>7</td>\n",
       "      <td>1180</td>\n",
       "      <td>...</td>\n",
       "      <td>0</td>\n",
       "      <td>10</td>\n",
       "      <td>279</td>\n",
       "      <td>1</td>\n",
       "      <td>0</td>\n",
       "      <td>1180.0</td>\n",
       "      <td>1</td>\n",
       "      <td>0</td>\n",
       "      <td>0</td>\n",
       "      <td>0</td>\n",
       "    </tr>\n",
       "    <tr>\n",
       "      <td>1</td>\n",
       "      <td>6414100192</td>\n",
       "      <td>2014-12-09</td>\n",
       "      <td>538000.0</td>\n",
       "      <td>3</td>\n",
       "      <td>2.25</td>\n",
       "      <td>2570</td>\n",
       "      <td>7242</td>\n",
       "      <td>3</td>\n",
       "      <td>7</td>\n",
       "      <td>2170</td>\n",
       "      <td>...</td>\n",
       "      <td>0</td>\n",
       "      <td>12</td>\n",
       "      <td>335</td>\n",
       "      <td>0</td>\n",
       "      <td>1</td>\n",
       "      <td>2970.0</td>\n",
       "      <td>1</td>\n",
       "      <td>0</td>\n",
       "      <td>0</td>\n",
       "      <td>0</td>\n",
       "    </tr>\n",
       "    <tr>\n",
       "      <td>2</td>\n",
       "      <td>5631500400</td>\n",
       "      <td>2015-02-25</td>\n",
       "      <td>180000.0</td>\n",
       "      <td>2</td>\n",
       "      <td>1.00</td>\n",
       "      <td>770</td>\n",
       "      <td>10000</td>\n",
       "      <td>3</td>\n",
       "      <td>6</td>\n",
       "      <td>770</td>\n",
       "      <td>...</td>\n",
       "      <td>0</td>\n",
       "      <td>2</td>\n",
       "      <td>49</td>\n",
       "      <td>1</td>\n",
       "      <td>0</td>\n",
       "      <td>770.0</td>\n",
       "      <td>1</td>\n",
       "      <td>0</td>\n",
       "      <td>0</td>\n",
       "      <td>0</td>\n",
       "    </tr>\n",
       "    <tr>\n",
       "      <td>3</td>\n",
       "      <td>2487200875</td>\n",
       "      <td>2014-12-09</td>\n",
       "      <td>604000.0</td>\n",
       "      <td>4</td>\n",
       "      <td>3.00</td>\n",
       "      <td>1960</td>\n",
       "      <td>5000</td>\n",
       "      <td>5</td>\n",
       "      <td>7</td>\n",
       "      <td>1050</td>\n",
       "      <td>...</td>\n",
       "      <td>0</td>\n",
       "      <td>12</td>\n",
       "      <td>335</td>\n",
       "      <td>0</td>\n",
       "      <td>1</td>\n",
       "      <td>2870.0</td>\n",
       "      <td>1</td>\n",
       "      <td>0</td>\n",
       "      <td>0</td>\n",
       "      <td>0</td>\n",
       "    </tr>\n",
       "    <tr>\n",
       "      <td>4</td>\n",
       "      <td>1954400510</td>\n",
       "      <td>2015-02-18</td>\n",
       "      <td>510000.0</td>\n",
       "      <td>3</td>\n",
       "      <td>2.00</td>\n",
       "      <td>1680</td>\n",
       "      <td>8080</td>\n",
       "      <td>3</td>\n",
       "      <td>8</td>\n",
       "      <td>1680</td>\n",
       "      <td>...</td>\n",
       "      <td>0</td>\n",
       "      <td>2</td>\n",
       "      <td>42</td>\n",
       "      <td>1</td>\n",
       "      <td>0</td>\n",
       "      <td>1680.0</td>\n",
       "      <td>1</td>\n",
       "      <td>0</td>\n",
       "      <td>0</td>\n",
       "      <td>0</td>\n",
       "    </tr>\n",
       "  </tbody>\n",
       "</table>\n",
       "<p>5 rows × 35 columns</p>\n",
       "</div>"
      ],
      "text/plain": [
       "           id       date     price  bedrooms  bathrooms  sqft_living  \\\n",
       "0  7129300520 2014-10-13  221900.0         3       1.00         1180   \n",
       "1  6414100192 2014-12-09  538000.0         3       2.25         2570   \n",
       "2  5631500400 2015-02-25  180000.0         2       1.00          770   \n",
       "3  2487200875 2014-12-09  604000.0         4       3.00         1960   \n",
       "4  1954400510 2015-02-18  510000.0         3       2.00         1680   \n",
       "\n",
       "   sqft_lot  condition  grade  sqft_above  ...  viewed  month  day_of_year  \\\n",
       "0      5650          3      7        1180  ...       0     10          279   \n",
       "1      7242          3      7        2170  ...       0     12          335   \n",
       "2     10000          3      6         770  ...       0      2           49   \n",
       "3      5000          5      7        1050  ...       0     12          335   \n",
       "4      8080          3      8        1680  ...       0      2           42   \n",
       "\n",
       "   no_basement  has_basement  total_home_sqft  quad_1  quad_2  quad_3  quad_4  \n",
       "0            1             0           1180.0       1       0       0       0  \n",
       "1            0             1           2970.0       1       0       0       0  \n",
       "2            1             0            770.0       1       0       0       0  \n",
       "3            0             1           2870.0       1       0       0       0  \n",
       "4            1             0           1680.0       1       0       0       0  \n",
       "\n",
       "[5 rows x 35 columns]"
      ]
     },
     "execution_count": 48,
     "metadata": {},
     "output_type": "execute_result"
    }
   ],
   "source": [
    "# label encoding\n",
    "cats = ['quad_1', 'quad_2', 'quad_3', 'quad_4']\n",
    "for cat in cats:\n",
    "    df2[cat] = df2[cat].astype('category')\n",
    "    df2[cat] = df2[cat].cat.codes\n",
    "df2.head()"
   ]
  },
  {
   "cell_type": "code",
   "execution_count": 49,
   "metadata": {
    "ExecuteTime": {
     "end_time": "2020-07-26T16:29:45.833940Z",
     "start_time": "2020-07-26T16:29:45.762696Z"
    },
    "scrolled": true
   },
   "outputs": [
    {
     "data": {
      "text/plain": [
       "42    602\n",
       "23    589\n",
       "49    583\n",
       "28    574\n",
       "51    553\n",
       "     ... \n",
       "41    104\n",
       "8     100\n",
       "14     80\n",
       "61     57\n",
       "24     50\n",
       "Name: zipcode, Length: 70, dtype: int64"
      ]
     },
     "execution_count": 49,
     "metadata": {},
     "output_type": "execute_result"
    }
   ],
   "source": [
    "# future work: data scrape to associate zipcodes with cities\n",
    "# turning zipcodes into categorical data via label-encoding\n",
    "# label-encoding\n",
    "df2['zipcode'] = df2['zipcode'].astype('category')\n",
    "df2['zipcode'] = df2.zipcode.cat.codes\n",
    "df2['zipcode'].value_counts()"
   ]
  },
  {
   "cell_type": "code",
   "execution_count": 50,
   "metadata": {
    "ExecuteTime": {
     "end_time": "2020-07-26T16:29:45.923648Z",
     "start_time": "2020-07-26T16:29:45.834936Z"
    }
   },
   "outputs": [],
   "source": [
    "# creating copy of df2\n",
    "df3 = df2.copy()"
   ]
  },
  {
   "cell_type": "markdown",
   "metadata": {},
   "source": [
    "## Grade"
   ]
  },
  {
   "cell_type": "code",
   "execution_count": 51,
   "metadata": {
    "ExecuteTime": {
     "end_time": "2020-07-26T16:29:46.081110Z",
     "start_time": "2020-07-26T16:29:45.924645Z"
    }
   },
   "outputs": [
    {
     "data": {
      "text/plain": [
       "(21597, 35)"
      ]
     },
     "execution_count": 51,
     "metadata": {},
     "output_type": "execute_result"
    }
   ],
   "source": [
    "# checking the current shape of our dataset so it stays in mind.\n",
    "\n",
    "df3.shape"
   ]
  },
  {
   "cell_type": "code",
   "execution_count": 52,
   "metadata": {
    "ExecuteTime": {
     "end_time": "2020-07-26T16:29:46.180054Z",
     "start_time": "2020-07-26T16:29:46.082112Z"
    }
   },
   "outputs": [
    {
     "data": {
      "text/plain": [
       "array([ 7,  6,  8, 11,  9,  5, 10, 12,  4,  3, 13], dtype=int64)"
      ]
     },
     "execution_count": 52,
     "metadata": {},
     "output_type": "execute_result"
    }
   ],
   "source": [
    "# so far we have retained 100% of our data\n",
    "# checking values of 'grade'\n",
    "df3['grade'].unique()"
   ]
  },
  {
   "cell_type": "markdown",
   "metadata": {},
   "source": [
    "Unique values are 3-13.  If we bin by every 3 numbers, we'll lose value 13 Creating bins are based on odd numbers, we'll be able to account for all of\n",
    "the values"
   ]
  },
  {
   "cell_type": "code",
   "execution_count": 53,
   "metadata": {
    "ExecuteTime": {
     "end_time": "2020-07-26T16:29:46.471262Z",
     "start_time": "2020-07-26T16:29:46.181040Z"
    }
   },
   "outputs": [
    {
     "data": {
      "text/plain": [
       "Text(0, 0.5, 'value counts')"
      ]
     },
     "execution_count": 53,
     "metadata": {},
     "output_type": "execute_result"
    },
    {
     "data": {
      "image/png": "[encoded data removed]",
      "text/plain": [
       "<Figure size 432x288 with 1 Axes>"
      ]
     },
     "metadata": {
      "needs_background": "light"
     },
     "output_type": "display_data"
    }
   ],
   "source": [
    "bins = [2, 5, 7, 9, 11, 13]\n",
    "bin_grd = pd.cut(df3['grade'], bins)\n",
    "bin_grd = bin_grd.cat.as_ordered()\n",
    "\n",
    "bin_grd.value_counts().plot(kind='bar')\n",
    "plt.title('grade bins')\n",
    "plt.xlabel('grade bins')\n",
    "plt.ylabel('value counts')"
   ]
  },
  {
   "cell_type": "code",
   "execution_count": 54,
   "metadata": {
    "ExecuteTime": {
     "end_time": "2020-07-26T16:29:46.503227Z",
     "start_time": "2020-07-26T16:29:46.472243Z"
    },
    "scrolled": true
   },
   "outputs": [
    {
     "data": {
      "text/html": [
       "<div>\n",
       "<style scoped>\n",
       "    .dataframe tbody tr th:only-of-type {\n",
       "        vertical-align: middle;\n",
       "    }\n",
       "\n",
       "    .dataframe tbody tr th {\n",
       "        vertical-align: top;\n",
       "    }\n",
       "\n",
       "    .dataframe thead th {\n",
       "        text-align: right;\n",
       "    }\n",
       "</style>\n",
       "<table border=\"1\" class=\"dataframe\">\n",
       "  <thead>\n",
       "    <tr style=\"text-align: right;\">\n",
       "      <th></th>\n",
       "      <th>id</th>\n",
       "      <th>date</th>\n",
       "      <th>price</th>\n",
       "      <th>bedrooms</th>\n",
       "      <th>bathrooms</th>\n",
       "      <th>sqft_living</th>\n",
       "      <th>sqft_lot</th>\n",
       "      <th>condition</th>\n",
       "      <th>sqft_above</th>\n",
       "      <th>yr_built</th>\n",
       "      <th>...</th>\n",
       "      <th>total_home_sqft</th>\n",
       "      <th>quad_1</th>\n",
       "      <th>quad_2</th>\n",
       "      <th>quad_3</th>\n",
       "      <th>quad_4</th>\n",
       "      <th>grade_(2, 5]</th>\n",
       "      <th>grade_(5, 7]</th>\n",
       "      <th>grade_(7, 9]</th>\n",
       "      <th>grade_(9, 11]</th>\n",
       "      <th>grade_(11, 13]</th>\n",
       "    </tr>\n",
       "  </thead>\n",
       "  <tbody>\n",
       "    <tr>\n",
       "      <td>0</td>\n",
       "      <td>7129300520</td>\n",
       "      <td>2014-10-13</td>\n",
       "      <td>221900.0</td>\n",
       "      <td>3</td>\n",
       "      <td>1.00</td>\n",
       "      <td>1180</td>\n",
       "      <td>5650</td>\n",
       "      <td>3</td>\n",
       "      <td>1180</td>\n",
       "      <td>55</td>\n",
       "      <td>...</td>\n",
       "      <td>1180.0</td>\n",
       "      <td>1</td>\n",
       "      <td>0</td>\n",
       "      <td>0</td>\n",
       "      <td>0</td>\n",
       "      <td>0</td>\n",
       "      <td>1</td>\n",
       "      <td>0</td>\n",
       "      <td>0</td>\n",
       "      <td>0</td>\n",
       "    </tr>\n",
       "    <tr>\n",
       "      <td>1</td>\n",
       "      <td>6414100192</td>\n",
       "      <td>2014-12-09</td>\n",
       "      <td>538000.0</td>\n",
       "      <td>3</td>\n",
       "      <td>2.25</td>\n",
       "      <td>2570</td>\n",
       "      <td>7242</td>\n",
       "      <td>3</td>\n",
       "      <td>2170</td>\n",
       "      <td>51</td>\n",
       "      <td>...</td>\n",
       "      <td>2970.0</td>\n",
       "      <td>1</td>\n",
       "      <td>0</td>\n",
       "      <td>0</td>\n",
       "      <td>0</td>\n",
       "      <td>0</td>\n",
       "      <td>1</td>\n",
       "      <td>0</td>\n",
       "      <td>0</td>\n",
       "      <td>0</td>\n",
       "    </tr>\n",
       "    <tr>\n",
       "      <td>2</td>\n",
       "      <td>5631500400</td>\n",
       "      <td>2015-02-25</td>\n",
       "      <td>180000.0</td>\n",
       "      <td>2</td>\n",
       "      <td>1.00</td>\n",
       "      <td>770</td>\n",
       "      <td>10000</td>\n",
       "      <td>3</td>\n",
       "      <td>770</td>\n",
       "      <td>33</td>\n",
       "      <td>...</td>\n",
       "      <td>770.0</td>\n",
       "      <td>1</td>\n",
       "      <td>0</td>\n",
       "      <td>0</td>\n",
       "      <td>0</td>\n",
       "      <td>0</td>\n",
       "      <td>1</td>\n",
       "      <td>0</td>\n",
       "      <td>0</td>\n",
       "      <td>0</td>\n",
       "    </tr>\n",
       "    <tr>\n",
       "      <td>3</td>\n",
       "      <td>2487200875</td>\n",
       "      <td>2014-12-09</td>\n",
       "      <td>604000.0</td>\n",
       "      <td>4</td>\n",
       "      <td>3.00</td>\n",
       "      <td>1960</td>\n",
       "      <td>5000</td>\n",
       "      <td>5</td>\n",
       "      <td>1050</td>\n",
       "      <td>65</td>\n",
       "      <td>...</td>\n",
       "      <td>2870.0</td>\n",
       "      <td>1</td>\n",
       "      <td>0</td>\n",
       "      <td>0</td>\n",
       "      <td>0</td>\n",
       "      <td>0</td>\n",
       "      <td>1</td>\n",
       "      <td>0</td>\n",
       "      <td>0</td>\n",
       "      <td>0</td>\n",
       "    </tr>\n",
       "    <tr>\n",
       "      <td>4</td>\n",
       "      <td>1954400510</td>\n",
       "      <td>2015-02-18</td>\n",
       "      <td>510000.0</td>\n",
       "      <td>3</td>\n",
       "      <td>2.00</td>\n",
       "      <td>1680</td>\n",
       "      <td>8080</td>\n",
       "      <td>3</td>\n",
       "      <td>1680</td>\n",
       "      <td>87</td>\n",
       "      <td>...</td>\n",
       "      <td>1680.0</td>\n",
       "      <td>1</td>\n",
       "      <td>0</td>\n",
       "      <td>0</td>\n",
       "      <td>0</td>\n",
       "      <td>0</td>\n",
       "      <td>0</td>\n",
       "      <td>1</td>\n",
       "      <td>0</td>\n",
       "      <td>0</td>\n",
       "    </tr>\n",
       "  </tbody>\n",
       "</table>\n",
       "<p>5 rows × 39 columns</p>\n",
       "</div>"
      ],
      "text/plain": [
       "           id       date     price  bedrooms  bathrooms  sqft_living  \\\n",
       "0  7129300520 2014-10-13  221900.0         3       1.00         1180   \n",
       "1  6414100192 2014-12-09  538000.0         3       2.25         2570   \n",
       "2  5631500400 2015-02-25  180000.0         2       1.00          770   \n",
       "3  2487200875 2014-12-09  604000.0         4       3.00         1960   \n",
       "4  1954400510 2015-02-18  510000.0         3       2.00         1680   \n",
       "\n",
       "   sqft_lot  condition  sqft_above  yr_built  ...  total_home_sqft  quad_1  \\\n",
       "0      5650          3        1180        55  ...           1180.0       1   \n",
       "1      7242          3        2170        51  ...           2970.0       1   \n",
       "2     10000          3         770        33  ...            770.0       1   \n",
       "3      5000          5        1050        65  ...           2870.0       1   \n",
       "4      8080          3        1680        87  ...           1680.0       1   \n",
       "\n",
       "   quad_2  quad_3  quad_4  grade_(2, 5]  grade_(5, 7]  grade_(7, 9]  \\\n",
       "0       0       0       0             0             1             0   \n",
       "1       0       0       0             0             1             0   \n",
       "2       0       0       0             0             1             0   \n",
       "3       0       0       0             0             1             0   \n",
       "4       0       0       0             0             0             1   \n",
       "\n",
       "   grade_(9, 11]  grade_(11, 13]  \n",
       "0              0               0  \n",
       "1              0               0  \n",
       "2              0               0  \n",
       "3              0               0  \n",
       "4              0               0  \n",
       "\n",
       "[5 rows x 39 columns]"
      ]
     },
     "execution_count": 54,
     "metadata": {},
     "output_type": "execute_result"
    }
   ],
   "source": [
    "# now to afix this to our data frame and create dummies\n",
    "df3['grade'] = bin_grd\n",
    "df3['grade'] = df3['grade'].cat.codes\n",
    "# Creating dummies\n",
    "gbin_dummies = pd.get_dummies(bin_grd, prefix='grade') \n",
    "\n",
    "# again, keeping first column for now\n",
    "\n",
    "df3 = df3.drop(['grade'], axis=1)\n",
    "df3 = pd.concat([df3, gbin_dummies], axis=1)\n",
    "df3.head()"
   ]
  },
  {
   "cell_type": "code",
   "execution_count": 55,
   "metadata": {
    "ExecuteTime": {
     "end_time": "2020-07-26T16:29:46.649055Z",
     "start_time": "2020-07-26T16:29:46.504225Z"
    }
   },
   "outputs": [
    {
     "name": "stdout",
     "output_type": "stream",
     "text": [
      "<class 'pandas.core.frame.DataFrame'>\n",
      "RangeIndex: 21597 entries, 0 to 21596\n",
      "Data columns (total 39 columns):\n",
      "id                 21597 non-null int64\n",
      "date               21597 non-null datetime64[ns]\n",
      "price              21597 non-null float64\n",
      "bedrooms           21597 non-null int64\n",
      "bathrooms          21597 non-null float64\n",
      "sqft_living        21597 non-null int64\n",
      "sqft_lot           21597 non-null int64\n",
      "condition          21597 non-null int64\n",
      "sqft_above         21597 non-null int64\n",
      "yr_built           21597 non-null int8\n",
      "zipcode            21597 non-null int8\n",
      "lat                21597 non-null float64\n",
      "long               21597 non-null float64\n",
      "sqft_living15      21597 non-null int64\n",
      "sqft_lot15         21597 non-null int64\n",
      "waterfront_N       21597 non-null int32\n",
      "waterfront_Y       21597 non-null int32\n",
      "not_renovated      21597 non-null int32\n",
      "is_renovated       21597 non-null int32\n",
      "floors_1           21597 non-null int32\n",
      "floors_2           21597 non-null int32\n",
      "floors_3           21597 non-null int32\n",
      "floors_3_half      21597 non-null int32\n",
      "not_viewed         21597 non-null uint8\n",
      "viewed             21597 non-null uint8\n",
      "month              21597 non-null int64\n",
      "day_of_year        21597 non-null int16\n",
      "no_basement        21597 non-null uint8\n",
      "has_basement       21597 non-null uint8\n",
      "total_home_sqft    21597 non-null float64\n",
      "quad_1             21597 non-null int8\n",
      "quad_2             21597 non-null int8\n",
      "quad_3             21597 non-null int8\n",
      "quad_4             21597 non-null int8\n",
      "grd_1_to_5         21597 non-null uint8\n",
      "grd_6_to_7         21597 non-null uint8\n",
      "grd_8_to_9         21597 non-null uint8\n",
      "grd_10_to_11       21597 non-null uint8\n",
      "grd_12_to_13       21597 non-null uint8\n",
      "dtypes: datetime64[ns](1), float64(5), int16(1), int32(8), int64(9), int8(6), uint8(9)\n",
      "memory usage: 3.5 MB\n"
     ]
    }
   ],
   "source": [
    "df3 = df3.rename(columns={'grade_(2, 5]':'grd_1_to_5', \n",
    "                          'grade_(5, 7]':'grd_6_to_7', \n",
    "                           'grade_(7, 9]':'grd_8_to_9', \n",
    "                          'grade_(9, 11]':'grd_10_to_11', \n",
    "                           'grade_(11, 13]':'grd_12_to_13'})\n",
    "df3.info()"
   ]
  },
  {
   "cell_type": "markdown",
   "metadata": {},
   "source": [
    "## Months"
   ]
  },
  {
   "cell_type": "code",
   "execution_count": 56,
   "metadata": {
    "ExecuteTime": {
     "end_time": "2020-07-26T16:29:46.811940Z",
     "start_time": "2020-07-26T16:29:46.650041Z"
    }
   },
   "outputs": [
    {
     "data": {
      "text/plain": [
       "0    (9, 12]\n",
       "1    (9, 12]\n",
       "2     (0, 3]\n",
       "3    (9, 12]\n",
       "4     (0, 3]\n",
       "Name: month, dtype: category\n",
       "Categories (4, interval[int64]): [(0, 3] < (3, 6] < (6, 9] < (9, 12]]"
      ]
     },
     "execution_count": 56,
     "metadata": {},
     "output_type": "execute_result"
    }
   ],
   "source": [
    "# Don't want 12 dummy variables for months. Binning according to 4 seasons\n",
    "bins = [0, 3, 6, 9, 12]\n",
    "b_mnth = pd.cut(df3['month'], bins)\n",
    "b_mnth = b_mnth.cat.as_ordered()\n",
    "b_mnth.head()"
   ]
  },
  {
   "cell_type": "code",
   "execution_count": 57,
   "metadata": {
    "ExecuteTime": {
     "end_time": "2020-07-26T16:29:47.139406Z",
     "start_time": "2020-07-26T16:29:46.812925Z"
    }
   },
   "outputs": [
    {
     "data": {
      "text/plain": [
       "Text(0.5, 1.0, 'Month Bins')"
      ]
     },
     "execution_count": 57,
     "metadata": {},
     "output_type": "execute_result"
    },
    {
     "data": {
      "image/png": "[encoded data removed]",
      "text/plain": [
       "<Figure size 432x288 with 1 Axes>"
      ]
     },
     "metadata": {
      "needs_background": "light"
     },
     "output_type": "display_data"
    }
   ],
   "source": [
    "# Looks alright so far, lets plot and check see distribution\n",
    "b_mnth.value_counts().plot(kind='bar')\n",
    "plt.xlabel('bins')\n",
    "plt.ylabel('values')\n",
    "plt.title('Month Bins')"
   ]
  },
  {
   "cell_type": "code",
   "execution_count": 58,
   "metadata": {
    "ExecuteTime": {
     "end_time": "2020-07-26T16:29:47.173385Z",
     "start_time": "2020-07-26T16:29:47.140404Z"
    }
   },
   "outputs": [
    {
     "data": {
      "text/html": [
       "<div>\n",
       "<style scoped>\n",
       "    .dataframe tbody tr th:only-of-type {\n",
       "        vertical-align: middle;\n",
       "    }\n",
       "\n",
       "    .dataframe tbody tr th {\n",
       "        vertical-align: top;\n",
       "    }\n",
       "\n",
       "    .dataframe thead th {\n",
       "        text-align: right;\n",
       "    }\n",
       "</style>\n",
       "<table border=\"1\" class=\"dataframe\">\n",
       "  <thead>\n",
       "    <tr style=\"text-align: right;\">\n",
       "      <th></th>\n",
       "      <th>id</th>\n",
       "      <th>date</th>\n",
       "      <th>price</th>\n",
       "      <th>bedrooms</th>\n",
       "      <th>bathrooms</th>\n",
       "      <th>sqft_living</th>\n",
       "      <th>sqft_lot</th>\n",
       "      <th>condition</th>\n",
       "      <th>sqft_above</th>\n",
       "      <th>yr_built</th>\n",
       "      <th>...</th>\n",
       "      <th>quad_4</th>\n",
       "      <th>grd_1_to_5</th>\n",
       "      <th>grd_6_to_7</th>\n",
       "      <th>grd_8_to_9</th>\n",
       "      <th>grd_10_to_11</th>\n",
       "      <th>grd_12_to_13</th>\n",
       "      <th>season_(0, 3]</th>\n",
       "      <th>season_(3, 6]</th>\n",
       "      <th>season_(6, 9]</th>\n",
       "      <th>season_(9, 12]</th>\n",
       "    </tr>\n",
       "  </thead>\n",
       "  <tbody>\n",
       "    <tr>\n",
       "      <td>0</td>\n",
       "      <td>7129300520</td>\n",
       "      <td>2014-10-13</td>\n",
       "      <td>221900.0</td>\n",
       "      <td>3</td>\n",
       "      <td>1.00</td>\n",
       "      <td>1180</td>\n",
       "      <td>5650</td>\n",
       "      <td>3</td>\n",
       "      <td>1180</td>\n",
       "      <td>55</td>\n",
       "      <td>...</td>\n",
       "      <td>0</td>\n",
       "      <td>0</td>\n",
       "      <td>1</td>\n",
       "      <td>0</td>\n",
       "      <td>0</td>\n",
       "      <td>0</td>\n",
       "      <td>0</td>\n",
       "      <td>0</td>\n",
       "      <td>0</td>\n",
       "      <td>1</td>\n",
       "    </tr>\n",
       "    <tr>\n",
       "      <td>1</td>\n",
       "      <td>6414100192</td>\n",
       "      <td>2014-12-09</td>\n",
       "      <td>538000.0</td>\n",
       "      <td>3</td>\n",
       "      <td>2.25</td>\n",
       "      <td>2570</td>\n",
       "      <td>7242</td>\n",
       "      <td>3</td>\n",
       "      <td>2170</td>\n",
       "      <td>51</td>\n",
       "      <td>...</td>\n",
       "      <td>0</td>\n",
       "      <td>0</td>\n",
       "      <td>1</td>\n",
       "      <td>0</td>\n",
       "      <td>0</td>\n",
       "      <td>0</td>\n",
       "      <td>0</td>\n",
       "      <td>0</td>\n",
       "      <td>0</td>\n",
       "      <td>1</td>\n",
       "    </tr>\n",
       "    <tr>\n",
       "      <td>2</td>\n",
       "      <td>5631500400</td>\n",
       "      <td>2015-02-25</td>\n",
       "      <td>180000.0</td>\n",
       "      <td>2</td>\n",
       "      <td>1.00</td>\n",
       "      <td>770</td>\n",
       "      <td>10000</td>\n",
       "      <td>3</td>\n",
       "      <td>770</td>\n",
       "      <td>33</td>\n",
       "      <td>...</td>\n",
       "      <td>0</td>\n",
       "      <td>0</td>\n",
       "      <td>1</td>\n",
       "      <td>0</td>\n",
       "      <td>0</td>\n",
       "      <td>0</td>\n",
       "      <td>1</td>\n",
       "      <td>0</td>\n",
       "      <td>0</td>\n",
       "      <td>0</td>\n",
       "    </tr>\n",
       "    <tr>\n",
       "      <td>3</td>\n",
       "      <td>2487200875</td>\n",
       "      <td>2014-12-09</td>\n",
       "      <td>604000.0</td>\n",
       "      <td>4</td>\n",
       "      <td>3.00</td>\n",
       "      <td>1960</td>\n",
       "      <td>5000</td>\n",
       "      <td>5</td>\n",
       "      <td>1050</td>\n",
       "      <td>65</td>\n",
       "      <td>...</td>\n",
       "      <td>0</td>\n",
       "      <td>0</td>\n",
       "      <td>1</td>\n",
       "      <td>0</td>\n",
       "      <td>0</td>\n",
       "      <td>0</td>\n",
       "      <td>0</td>\n",
       "      <td>0</td>\n",
       "      <td>0</td>\n",
       "      <td>1</td>\n",
       "    </tr>\n",
       "    <tr>\n",
       "      <td>4</td>\n",
       "      <td>1954400510</td>\n",
       "      <td>2015-02-18</td>\n",
       "      <td>510000.0</td>\n",
       "      <td>3</td>\n",
       "      <td>2.00</td>\n",
       "      <td>1680</td>\n",
       "      <td>8080</td>\n",
       "      <td>3</td>\n",
       "      <td>1680</td>\n",
       "      <td>87</td>\n",
       "      <td>...</td>\n",
       "      <td>0</td>\n",
       "      <td>0</td>\n",
       "      <td>0</td>\n",
       "      <td>1</td>\n",
       "      <td>0</td>\n",
       "      <td>0</td>\n",
       "      <td>1</td>\n",
       "      <td>0</td>\n",
       "      <td>0</td>\n",
       "      <td>0</td>\n",
       "    </tr>\n",
       "  </tbody>\n",
       "</table>\n",
       "<p>5 rows × 42 columns</p>\n",
       "</div>"
      ],
      "text/plain": [
       "           id       date     price  bedrooms  bathrooms  sqft_living  \\\n",
       "0  7129300520 2014-10-13  221900.0         3       1.00         1180   \n",
       "1  6414100192 2014-12-09  538000.0         3       2.25         2570   \n",
       "2  5631500400 2015-02-25  180000.0         2       1.00          770   \n",
       "3  2487200875 2014-12-09  604000.0         4       3.00         1960   \n",
       "4  1954400510 2015-02-18  510000.0         3       2.00         1680   \n",
       "\n",
       "   sqft_lot  condition  sqft_above  yr_built  ...  quad_4  grd_1_to_5  \\\n",
       "0      5650          3        1180        55  ...       0           0   \n",
       "1      7242          3        2170        51  ...       0           0   \n",
       "2     10000          3         770        33  ...       0           0   \n",
       "3      5000          5        1050        65  ...       0           0   \n",
       "4      8080          3        1680        87  ...       0           0   \n",
       "\n",
       "   grd_6_to_7  grd_8_to_9  grd_10_to_11  grd_12_to_13  season_(0, 3]  \\\n",
       "0           1           0             0             0              0   \n",
       "1           1           0             0             0              0   \n",
       "2           1           0             0             0              1   \n",
       "3           1           0             0             0              0   \n",
       "4           0           1             0             0              1   \n",
       "\n",
       "   season_(3, 6]  season_(6, 9]  season_(9, 12]  \n",
       "0              0              0               1  \n",
       "1              0              0               1  \n",
       "2              0              0               0  \n",
       "3              0              0               1  \n",
       "4              0              0               0  \n",
       "\n",
       "[5 rows x 42 columns]"
      ]
     },
     "execution_count": 58,
     "metadata": {},
     "output_type": "execute_result"
    }
   ],
   "source": [
    "# Ok, as expected, between fall and spring you see a drop in sales. \n",
    "# Making dummies\n",
    "\n",
    "df3['month']= b_mnth\n",
    "df3['month'] = df3['month'].cat.codes\n",
    "mnth_dummies = pd.get_dummies(b_mnth, prefix='season')\n",
    "df4 = df3.drop(['month'], axis=1)\n",
    "df4 = pd.concat([df4, mnth_dummies], axis=1)\n",
    "df4.head()"
   ]
  },
  {
   "cell_type": "code",
   "execution_count": 59,
   "metadata": {
    "ExecuteTime": {
     "end_time": "2020-07-26T16:29:47.311975Z",
     "start_time": "2020-07-26T16:29:47.174391Z"
    }
   },
   "outputs": [],
   "source": [
    "# renaming columns for clarity\n",
    "\n",
    "df4 = df4.rename(columns={'season_(0, 3]':'jan_mar', \n",
    "                            'season_(3, 6]':'apr_jun', \n",
    "                            'season_(6, 9]':'jul_sep', \n",
    "                            'season_(9, 12]':'oct_dec'})\n",
    "df4 = df4.drop('date', axis=1)"
   ]
  },
  {
   "cell_type": "markdown",
   "metadata": {
    "ExecuteTime": {
     "end_time": "2020-07-26T15:25:14.392385Z",
     "start_time": "2020-07-26T15:25:14.367412Z"
    }
   },
   "source": [
    "## Condition "
   ]
  },
  {
   "cell_type": "code",
   "execution_count": 60,
   "metadata": {
    "ExecuteTime": {
     "end_time": "2020-07-26T16:29:47.466105Z",
     "start_time": "2020-07-26T16:29:47.313978Z"
    }
   },
   "outputs": [],
   "source": [
    "# Getting dummies for condition \n",
    "cond_dummies = pd.get_dummies(df4['condition'], prefix='cond')"
   ]
  },
  {
   "cell_type": "code",
   "execution_count": 61,
   "metadata": {
    "ExecuteTime": {
     "end_time": "2020-07-26T16:29:47.592370Z",
     "start_time": "2020-07-26T16:29:47.468107Z"
    }
   },
   "outputs": [
    {
     "data": {
      "text/plain": [
       "Index(['id', 'price', 'bedrooms', 'bathrooms', 'sqft_living', 'sqft_lot',\n",
       "       'condition', 'sqft_above', 'yr_built', 'zipcode', 'lat', 'long',\n",
       "       'sqft_living15', 'sqft_lot15', 'waterfront_N', 'waterfront_Y',\n",
       "       'not_renovated', 'is_renovated', 'floors_1', 'floors_2', 'floors_3',\n",
       "       'floors_3_half', 'not_viewed', 'viewed', 'day_of_year', 'no_basement',\n",
       "       'has_basement', 'total_home_sqft', 'quad_1', 'quad_2', 'quad_3',\n",
       "       'quad_4', 'grd_1_to_5', 'grd_6_to_7', 'grd_8_to_9', 'grd_10_to_11',\n",
       "       'grd_12_to_13', 'jan_mar', 'apr_jun', 'jul_sep', 'oct_dec', 'cond_1',\n",
       "       'cond_2', 'cond_3', 'cond_4', 'cond_5'],\n",
       "      dtype='object')"
      ]
     },
     "execution_count": 61,
     "metadata": {},
     "output_type": "execute_result"
    }
   ],
   "source": [
    "# adding to data frame \n",
    "df4 = pd.concat([df4, cond_dummies], axis=1)\n",
    "df4.columns"
   ]
  },
  {
   "cell_type": "code",
   "execution_count": 62,
   "metadata": {
    "ExecuteTime": {
     "end_time": "2020-07-26T16:29:47.755863Z",
     "start_time": "2020-07-26T16:29:47.596372Z"
    }
   },
   "outputs": [],
   "source": [
    "# renaming columns according to the definition of the rating given at \n",
    "# kingcounty.gov for clarity\n",
    "\n",
    "df4 = df4.rename(columns={'cond_1':'cond_poor', \n",
    "                            'cond_2':'cond_fair', \n",
    "                            'cond_3':'cond_average', \n",
    "                            'cond_4':'cond_good',\n",
    "                         'cond_5':'cond_very_good'})\n",
    "df4 = df4.drop('condition', axis=1)\n"
   ]
  },
  {
   "cell_type": "code",
   "execution_count": 63,
   "metadata": {
    "ExecuteTime": {
     "end_time": "2020-07-26T16:29:47.961500Z",
     "start_time": "2020-07-26T16:29:47.758860Z"
    }
   },
   "outputs": [
    {
     "name": "stdout",
     "output_type": "stream",
     "text": [
      "<class 'pandas.core.frame.DataFrame'>\n",
      "RangeIndex: 21597 entries, 0 to 21596\n",
      "Data columns (total 45 columns):\n",
      "id                 21597 non-null int64\n",
      "price              21597 non-null float64\n",
      "bedrooms           21597 non-null int64\n",
      "bathrooms          21597 non-null float64\n",
      "sqft_living        21597 non-null int64\n",
      "sqft_lot           21597 non-null int64\n",
      "sqft_above         21597 non-null int64\n",
      "yr_built           21597 non-null int8\n",
      "zipcode            21597 non-null int8\n",
      "lat                21597 non-null float64\n",
      "long               21597 non-null float64\n",
      "sqft_living15      21597 non-null int64\n",
      "sqft_lot15         21597 non-null int64\n",
      "waterfront_N       21597 non-null int32\n",
      "waterfront_Y       21597 non-null int32\n",
      "not_renovated      21597 non-null int32\n",
      "is_renovated       21597 non-null int32\n",
      "floors_1           21597 non-null int32\n",
      "floors_2           21597 non-null int32\n",
      "floors_3           21597 non-null int32\n",
      "floors_3_half      21597 non-null int32\n",
      "not_viewed         21597 non-null uint8\n",
      "viewed             21597 non-null uint8\n",
      "day_of_year        21597 non-null int16\n",
      "no_basement        21597 non-null uint8\n",
      "has_basement       21597 non-null uint8\n",
      "total_home_sqft    21597 non-null float64\n",
      "quad_1             21597 non-null int8\n",
      "quad_2             21597 non-null int8\n",
      "quad_3             21597 non-null int8\n",
      "quad_4             21597 non-null int8\n",
      "grd_1_to_5         21597 non-null uint8\n",
      "grd_6_to_7         21597 non-null uint8\n",
      "grd_8_to_9         21597 non-null uint8\n",
      "grd_10_to_11       21597 non-null uint8\n",
      "grd_12_to_13       21597 non-null uint8\n",
      "jan_mar            21597 non-null uint8\n",
      "apr_jun            21597 non-null uint8\n",
      "jul_sep            21597 non-null uint8\n",
      "oct_dec            21597 non-null uint8\n",
      "cond_poor          21597 non-null uint8\n",
      "cond_fair          21597 non-null uint8\n",
      "cond_average       21597 non-null uint8\n",
      "cond_good          21597 non-null uint8\n",
      "cond_very_good     21597 non-null uint8\n",
      "dtypes: float64(5), int16(1), int32(8), int64(7), int8(6), uint8(18)\n",
      "memory usage: 3.2 MB\n"
     ]
    }
   ],
   "source": [
    "df4.info()"
   ]
  },
  {
   "cell_type": "code",
   "execution_count": 64,
   "metadata": {
    "ExecuteTime": {
     "end_time": "2020-07-26T16:29:48.127801Z",
     "start_time": "2020-07-26T16:29:47.963479Z"
    }
   },
   "outputs": [],
   "source": [
    "df5 = df4.copy()"
   ]
  },
  {
   "cell_type": "markdown",
   "metadata": {},
   "source": [
    "## Checking for Duplicates"
   ]
  },
  {
   "cell_type": "code",
   "execution_count": 65,
   "metadata": {
    "ExecuteTime": {
     "end_time": "2020-07-26T16:29:48.227686Z",
     "start_time": "2020-07-26T16:29:48.130805Z"
    }
   },
   "outputs": [
    {
     "data": {
      "text/plain": [
       "False    21420\n",
       "True       177\n",
       "Name: id, dtype: int64"
      ]
     },
     "execution_count": 65,
     "metadata": {},
     "output_type": "execute_result"
    }
   ],
   "source": [
    "# checking for duplicates using house id's as a reference\n",
    "df5.id.duplicated().value_counts()"
   ]
  },
  {
   "cell_type": "code",
   "execution_count": 66,
   "metadata": {
    "ExecuteTime": {
     "end_time": "2020-07-26T16:29:48.391809Z",
     "start_time": "2020-07-26T16:29:48.229685Z"
    }
   },
   "outputs": [
    {
     "data": {
      "text/html": [
       "<div>\n",
       "<style scoped>\n",
       "    .dataframe tbody tr th:only-of-type {\n",
       "        vertical-align: middle;\n",
       "    }\n",
       "\n",
       "    .dataframe tbody tr th {\n",
       "        vertical-align: top;\n",
       "    }\n",
       "\n",
       "    .dataframe thead th {\n",
       "        text-align: right;\n",
       "    }\n",
       "</style>\n",
       "<table border=\"1\" class=\"dataframe\">\n",
       "  <thead>\n",
       "    <tr style=\"text-align: right;\">\n",
       "      <th></th>\n",
       "      <th>id</th>\n",
       "      <th>date</th>\n",
       "      <th>price</th>\n",
       "      <th>bedrooms</th>\n",
       "      <th>bathrooms</th>\n",
       "      <th>sqft_living</th>\n",
       "      <th>sqft_lot</th>\n",
       "      <th>floors</th>\n",
       "      <th>waterfront</th>\n",
       "      <th>view</th>\n",
       "      <th>...</th>\n",
       "      <th>sqft_basement</th>\n",
       "      <th>yr_built</th>\n",
       "      <th>yr_renovated</th>\n",
       "      <th>zipcode</th>\n",
       "      <th>lat</th>\n",
       "      <th>long</th>\n",
       "      <th>sqft_living15</th>\n",
       "      <th>sqft_lot15</th>\n",
       "      <th>waterfront_0.0</th>\n",
       "      <th>waterfront_1.0</th>\n",
       "    </tr>\n",
       "  </thead>\n",
       "  <tbody>\n",
       "    <tr>\n",
       "      <td>93</td>\n",
       "      <td>6021501535</td>\n",
       "      <td>7/25/2014</td>\n",
       "      <td>430000.0</td>\n",
       "      <td>3</td>\n",
       "      <td>1.50</td>\n",
       "      <td>1580</td>\n",
       "      <td>5000</td>\n",
       "      <td>1.0</td>\n",
       "      <td>0.0</td>\n",
       "      <td>0.0</td>\n",
       "      <td>...</td>\n",
       "      <td>290.0</td>\n",
       "      <td>1939</td>\n",
       "      <td>0.0</td>\n",
       "      <td>98117</td>\n",
       "      <td>47.6870</td>\n",
       "      <td>-122.386</td>\n",
       "      <td>1570</td>\n",
       "      <td>4500</td>\n",
       "      <td>1</td>\n",
       "      <td>0</td>\n",
       "    </tr>\n",
       "    <tr>\n",
       "      <td>94</td>\n",
       "      <td>6021501535</td>\n",
       "      <td>12/23/2014</td>\n",
       "      <td>700000.0</td>\n",
       "      <td>3</td>\n",
       "      <td>1.50</td>\n",
       "      <td>1580</td>\n",
       "      <td>5000</td>\n",
       "      <td>1.0</td>\n",
       "      <td>0.0</td>\n",
       "      <td>0.0</td>\n",
       "      <td>...</td>\n",
       "      <td>290.0</td>\n",
       "      <td>1939</td>\n",
       "      <td>0.0</td>\n",
       "      <td>98117</td>\n",
       "      <td>47.6870</td>\n",
       "      <td>-122.386</td>\n",
       "      <td>1570</td>\n",
       "      <td>4500</td>\n",
       "      <td>1</td>\n",
       "      <td>0</td>\n",
       "    </tr>\n",
       "    <tr>\n",
       "      <td>313</td>\n",
       "      <td>4139480200</td>\n",
       "      <td>6/18/2014</td>\n",
       "      <td>1380000.0</td>\n",
       "      <td>4</td>\n",
       "      <td>3.25</td>\n",
       "      <td>4290</td>\n",
       "      <td>12103</td>\n",
       "      <td>1.0</td>\n",
       "      <td>0.0</td>\n",
       "      <td>3.0</td>\n",
       "      <td>...</td>\n",
       "      <td>1600.0</td>\n",
       "      <td>1997</td>\n",
       "      <td>0.0</td>\n",
       "      <td>98006</td>\n",
       "      <td>47.5503</td>\n",
       "      <td>-122.102</td>\n",
       "      <td>3860</td>\n",
       "      <td>11244</td>\n",
       "      <td>1</td>\n",
       "      <td>0</td>\n",
       "    </tr>\n",
       "    <tr>\n",
       "      <td>314</td>\n",
       "      <td>4139480200</td>\n",
       "      <td>12/9/2014</td>\n",
       "      <td>1400000.0</td>\n",
       "      <td>4</td>\n",
       "      <td>3.25</td>\n",
       "      <td>4290</td>\n",
       "      <td>12103</td>\n",
       "      <td>1.0</td>\n",
       "      <td>0.0</td>\n",
       "      <td>3.0</td>\n",
       "      <td>...</td>\n",
       "      <td>1600.0</td>\n",
       "      <td>1997</td>\n",
       "      <td>0.0</td>\n",
       "      <td>98006</td>\n",
       "      <td>47.5503</td>\n",
       "      <td>-122.102</td>\n",
       "      <td>3860</td>\n",
       "      <td>11244</td>\n",
       "      <td>1</td>\n",
       "      <td>0</td>\n",
       "    </tr>\n",
       "    <tr>\n",
       "      <td>324</td>\n",
       "      <td>7520000520</td>\n",
       "      <td>9/5/2014</td>\n",
       "      <td>232000.0</td>\n",
       "      <td>2</td>\n",
       "      <td>1.00</td>\n",
       "      <td>1240</td>\n",
       "      <td>12092</td>\n",
       "      <td>1.0</td>\n",
       "      <td>0.0</td>\n",
       "      <td>0.0</td>\n",
       "      <td>...</td>\n",
       "      <td>280.0</td>\n",
       "      <td>1922</td>\n",
       "      <td>1984.0</td>\n",
       "      <td>98146</td>\n",
       "      <td>47.4957</td>\n",
       "      <td>-122.352</td>\n",
       "      <td>1820</td>\n",
       "      <td>7460</td>\n",
       "      <td>1</td>\n",
       "      <td>0</td>\n",
       "    </tr>\n",
       "    <tr>\n",
       "      <td>...</td>\n",
       "      <td>...</td>\n",
       "      <td>...</td>\n",
       "      <td>...</td>\n",
       "      <td>...</td>\n",
       "      <td>...</td>\n",
       "      <td>...</td>\n",
       "      <td>...</td>\n",
       "      <td>...</td>\n",
       "      <td>...</td>\n",
       "      <td>...</td>\n",
       "      <td>...</td>\n",
       "      <td>...</td>\n",
       "      <td>...</td>\n",
       "      <td>...</td>\n",
       "      <td>...</td>\n",
       "      <td>...</td>\n",
       "      <td>...</td>\n",
       "      <td>...</td>\n",
       "      <td>...</td>\n",
       "      <td>...</td>\n",
       "      <td>...</td>\n",
       "    </tr>\n",
       "    <tr>\n",
       "      <td>20654</td>\n",
       "      <td>8564860270</td>\n",
       "      <td>3/30/2015</td>\n",
       "      <td>502000.0</td>\n",
       "      <td>4</td>\n",
       "      <td>2.50</td>\n",
       "      <td>2680</td>\n",
       "      <td>5539</td>\n",
       "      <td>2.0</td>\n",
       "      <td>0.0</td>\n",
       "      <td>0.0</td>\n",
       "      <td>...</td>\n",
       "      <td>0.0</td>\n",
       "      <td>2013</td>\n",
       "      <td>0.0</td>\n",
       "      <td>98045</td>\n",
       "      <td>47.4759</td>\n",
       "      <td>-121.734</td>\n",
       "      <td>2680</td>\n",
       "      <td>5992</td>\n",
       "      <td>1</td>\n",
       "      <td>0</td>\n",
       "    </tr>\n",
       "    <tr>\n",
       "      <td>20763</td>\n",
       "      <td>6300000226</td>\n",
       "      <td>6/26/2014</td>\n",
       "      <td>240000.0</td>\n",
       "      <td>4</td>\n",
       "      <td>1.00</td>\n",
       "      <td>1200</td>\n",
       "      <td>2171</td>\n",
       "      <td>1.5</td>\n",
       "      <td>0.0</td>\n",
       "      <td>0.0</td>\n",
       "      <td>...</td>\n",
       "      <td>0.0</td>\n",
       "      <td>1933</td>\n",
       "      <td>0.0</td>\n",
       "      <td>98133</td>\n",
       "      <td>47.7076</td>\n",
       "      <td>-122.342</td>\n",
       "      <td>1130</td>\n",
       "      <td>1598</td>\n",
       "      <td>1</td>\n",
       "      <td>0</td>\n",
       "    </tr>\n",
       "    <tr>\n",
       "      <td>20764</td>\n",
       "      <td>6300000226</td>\n",
       "      <td>5/4/2015</td>\n",
       "      <td>380000.0</td>\n",
       "      <td>4</td>\n",
       "      <td>1.00</td>\n",
       "      <td>1200</td>\n",
       "      <td>2171</td>\n",
       "      <td>1.5</td>\n",
       "      <td>0.0</td>\n",
       "      <td>0.0</td>\n",
       "      <td>...</td>\n",
       "      <td>0.0</td>\n",
       "      <td>1933</td>\n",
       "      <td>0.0</td>\n",
       "      <td>98133</td>\n",
       "      <td>47.7076</td>\n",
       "      <td>-122.342</td>\n",
       "      <td>1130</td>\n",
       "      <td>1598</td>\n",
       "      <td>1</td>\n",
       "      <td>0</td>\n",
       "    </tr>\n",
       "    <tr>\n",
       "      <td>21564</td>\n",
       "      <td>7853420110</td>\n",
       "      <td>10/3/2014</td>\n",
       "      <td>594866.0</td>\n",
       "      <td>3</td>\n",
       "      <td>3.00</td>\n",
       "      <td>2780</td>\n",
       "      <td>6000</td>\n",
       "      <td>2.0</td>\n",
       "      <td>0.0</td>\n",
       "      <td>0.0</td>\n",
       "      <td>...</td>\n",
       "      <td>0.0</td>\n",
       "      <td>2013</td>\n",
       "      <td>0.0</td>\n",
       "      <td>98065</td>\n",
       "      <td>47.5184</td>\n",
       "      <td>-121.886</td>\n",
       "      <td>2850</td>\n",
       "      <td>6000</td>\n",
       "      <td>1</td>\n",
       "      <td>0</td>\n",
       "    </tr>\n",
       "    <tr>\n",
       "      <td>21565</td>\n",
       "      <td>7853420110</td>\n",
       "      <td>5/4/2015</td>\n",
       "      <td>625000.0</td>\n",
       "      <td>3</td>\n",
       "      <td>3.00</td>\n",
       "      <td>2780</td>\n",
       "      <td>6000</td>\n",
       "      <td>2.0</td>\n",
       "      <td>0.0</td>\n",
       "      <td>0.0</td>\n",
       "      <td>...</td>\n",
       "      <td>0.0</td>\n",
       "      <td>2013</td>\n",
       "      <td>NaN</td>\n",
       "      <td>98065</td>\n",
       "      <td>47.5184</td>\n",
       "      <td>-121.886</td>\n",
       "      <td>2850</td>\n",
       "      <td>6000</td>\n",
       "      <td>1</td>\n",
       "      <td>0</td>\n",
       "    </tr>\n",
       "  </tbody>\n",
       "</table>\n",
       "<p>353 rows × 23 columns</p>\n",
       "</div>"
      ],
      "text/plain": [
       "               id        date      price  bedrooms  bathrooms  sqft_living  \\\n",
       "93     6021501535   7/25/2014   430000.0         3       1.50         1580   \n",
       "94     6021501535  12/23/2014   700000.0         3       1.50         1580   \n",
       "313    4139480200   6/18/2014  1380000.0         4       3.25         4290   \n",
       "314    4139480200   12/9/2014  1400000.0         4       3.25         4290   \n",
       "324    7520000520    9/5/2014   232000.0         2       1.00         1240   \n",
       "...           ...         ...        ...       ...        ...          ...   \n",
       "20654  8564860270   3/30/2015   502000.0         4       2.50         2680   \n",
       "20763  6300000226   6/26/2014   240000.0         4       1.00         1200   \n",
       "20764  6300000226    5/4/2015   380000.0         4       1.00         1200   \n",
       "21564  7853420110   10/3/2014   594866.0         3       3.00         2780   \n",
       "21565  7853420110    5/4/2015   625000.0         3       3.00         2780   \n",
       "\n",
       "       sqft_lot  floors  waterfront  view  ...  sqft_basement  yr_built  \\\n",
       "93         5000     1.0         0.0   0.0  ...          290.0      1939   \n",
       "94         5000     1.0         0.0   0.0  ...          290.0      1939   \n",
       "313       12103     1.0         0.0   3.0  ...         1600.0      1997   \n",
       "314       12103     1.0         0.0   3.0  ...         1600.0      1997   \n",
       "324       12092     1.0         0.0   0.0  ...          280.0      1922   \n",
       "...         ...     ...         ...   ...  ...            ...       ...   \n",
       "20654      5539     2.0         0.0   0.0  ...            0.0      2013   \n",
       "20763      2171     1.5         0.0   0.0  ...            0.0      1933   \n",
       "20764      2171     1.5         0.0   0.0  ...            0.0      1933   \n",
       "21564      6000     2.0         0.0   0.0  ...            0.0      2013   \n",
       "21565      6000     2.0         0.0   0.0  ...            0.0      2013   \n",
       "\n",
       "       yr_renovated zipcode      lat     long  sqft_living15  sqft_lot15  \\\n",
       "93              0.0   98117  47.6870 -122.386           1570        4500   \n",
       "94              0.0   98117  47.6870 -122.386           1570        4500   \n",
       "313             0.0   98006  47.5503 -122.102           3860       11244   \n",
       "314             0.0   98006  47.5503 -122.102           3860       11244   \n",
       "324          1984.0   98146  47.4957 -122.352           1820        7460   \n",
       "...             ...     ...      ...      ...            ...         ...   \n",
       "20654           0.0   98045  47.4759 -121.734           2680        5992   \n",
       "20763           0.0   98133  47.7076 -122.342           1130        1598   \n",
       "20764           0.0   98133  47.7076 -122.342           1130        1598   \n",
       "21564           0.0   98065  47.5184 -121.886           2850        6000   \n",
       "21565           NaN   98065  47.5184 -121.886           2850        6000   \n",
       "\n",
       "       waterfront_0.0  waterfront_1.0  \n",
       "93                  1               0  \n",
       "94                  1               0  \n",
       "313                 1               0  \n",
       "314                 1               0  \n",
       "324                 1               0  \n",
       "...               ...             ...  \n",
       "20654               1               0  \n",
       "20763               1               0  \n",
       "20764               1               0  \n",
       "21564               1               0  \n",
       "21565               1               0  \n",
       "\n",
       "[353 rows x 23 columns]"
      ]
     },
     "execution_count": 66,
     "metadata": {},
     "output_type": "execute_result"
    }
   ],
   "source": [
    "# calling back first data frame so we can look at any changes in price or date\n",
    "dups = df[df.duplicated(['id'],keep=False)]\n",
    "dups.groupby('id', axis=1)\n",
    "dups"
   ]
  },
  {
   "cell_type": "code",
   "execution_count": 67,
   "metadata": {
    "ExecuteTime": {
     "end_time": "2020-07-26T16:29:48.479758Z",
     "start_time": "2020-07-26T16:29:48.392809Z"
    }
   },
   "outputs": [
    {
     "data": {
      "text/html": [
       "<div>\n",
       "<style scoped>\n",
       "    .dataframe tbody tr th:only-of-type {\n",
       "        vertical-align: middle;\n",
       "    }\n",
       "\n",
       "    .dataframe tbody tr th {\n",
       "        vertical-align: top;\n",
       "    }\n",
       "\n",
       "    .dataframe thead th {\n",
       "        text-align: right;\n",
       "    }\n",
       "</style>\n",
       "<table border=\"1\" class=\"dataframe\">\n",
       "  <thead>\n",
       "    <tr style=\"text-align: right;\">\n",
       "      <th></th>\n",
       "      <th>id</th>\n",
       "      <th>date</th>\n",
       "      <th>price</th>\n",
       "      <th>condition</th>\n",
       "      <th>grade</th>\n",
       "    </tr>\n",
       "  </thead>\n",
       "  <tbody>\n",
       "    <tr>\n",
       "      <td>93</td>\n",
       "      <td>6021501535</td>\n",
       "      <td>7/25/2014</td>\n",
       "      <td>430000.0</td>\n",
       "      <td>3</td>\n",
       "      <td>8</td>\n",
       "    </tr>\n",
       "    <tr>\n",
       "      <td>94</td>\n",
       "      <td>6021501535</td>\n",
       "      <td>12/23/2014</td>\n",
       "      <td>700000.0</td>\n",
       "      <td>3</td>\n",
       "      <td>8</td>\n",
       "    </tr>\n",
       "    <tr>\n",
       "      <td>313</td>\n",
       "      <td>4139480200</td>\n",
       "      <td>6/18/2014</td>\n",
       "      <td>1380000.0</td>\n",
       "      <td>3</td>\n",
       "      <td>11</td>\n",
       "    </tr>\n",
       "    <tr>\n",
       "      <td>314</td>\n",
       "      <td>4139480200</td>\n",
       "      <td>12/9/2014</td>\n",
       "      <td>1400000.0</td>\n",
       "      <td>3</td>\n",
       "      <td>11</td>\n",
       "    </tr>\n",
       "    <tr>\n",
       "      <td>324</td>\n",
       "      <td>7520000520</td>\n",
       "      <td>9/5/2014</td>\n",
       "      <td>232000.0</td>\n",
       "      <td>3</td>\n",
       "      <td>6</td>\n",
       "    </tr>\n",
       "    <tr>\n",
       "      <td>325</td>\n",
       "      <td>7520000520</td>\n",
       "      <td>3/11/2015</td>\n",
       "      <td>240500.0</td>\n",
       "      <td>3</td>\n",
       "      <td>6</td>\n",
       "    </tr>\n",
       "    <tr>\n",
       "      <td>345</td>\n",
       "      <td>3969300030</td>\n",
       "      <td>7/23/2014</td>\n",
       "      <td>165000.0</td>\n",
       "      <td>3</td>\n",
       "      <td>6</td>\n",
       "    </tr>\n",
       "    <tr>\n",
       "      <td>346</td>\n",
       "      <td>3969300030</td>\n",
       "      <td>12/29/2014</td>\n",
       "      <td>239900.0</td>\n",
       "      <td>3</td>\n",
       "      <td>6</td>\n",
       "    </tr>\n",
       "    <tr>\n",
       "      <td>371</td>\n",
       "      <td>2231500030</td>\n",
       "      <td>10/1/2014</td>\n",
       "      <td>315000.0</td>\n",
       "      <td>5</td>\n",
       "      <td>7</td>\n",
       "    </tr>\n",
       "    <tr>\n",
       "      <td>372</td>\n",
       "      <td>2231500030</td>\n",
       "      <td>3/24/2015</td>\n",
       "      <td>530000.0</td>\n",
       "      <td>5</td>\n",
       "      <td>7</td>\n",
       "    </tr>\n",
       "    <tr>\n",
       "      <td>717</td>\n",
       "      <td>8820903380</td>\n",
       "      <td>7/28/2014</td>\n",
       "      <td>452000.0</td>\n",
       "      <td>3</td>\n",
       "      <td>7</td>\n",
       "    </tr>\n",
       "    <tr>\n",
       "      <td>718</td>\n",
       "      <td>8820903380</td>\n",
       "      <td>1/2/2015</td>\n",
       "      <td>730000.0</td>\n",
       "      <td>3</td>\n",
       "      <td>7</td>\n",
       "    </tr>\n",
       "    <tr>\n",
       "      <td>823</td>\n",
       "      <td>726049190</td>\n",
       "      <td>10/2/2014</td>\n",
       "      <td>287500.0</td>\n",
       "      <td>4</td>\n",
       "      <td>7</td>\n",
       "    </tr>\n",
       "    <tr>\n",
       "      <td>824</td>\n",
       "      <td>726049190</td>\n",
       "      <td>2/18/2015</td>\n",
       "      <td>431000.0</td>\n",
       "      <td>4</td>\n",
       "      <td>7</td>\n",
       "    </tr>\n",
       "    <tr>\n",
       "      <td>836</td>\n",
       "      <td>8682262400</td>\n",
       "      <td>7/18/2014</td>\n",
       "      <td>430000.0</td>\n",
       "      <td>3</td>\n",
       "      <td>8</td>\n",
       "    </tr>\n",
       "    <tr>\n",
       "      <td>837</td>\n",
       "      <td>8682262400</td>\n",
       "      <td>5/13/2015</td>\n",
       "      <td>419950.0</td>\n",
       "      <td>3</td>\n",
       "      <td>8</td>\n",
       "    </tr>\n",
       "    <tr>\n",
       "      <td>1084</td>\n",
       "      <td>9834200885</td>\n",
       "      <td>7/17/2014</td>\n",
       "      <td>360000.0</td>\n",
       "      <td>5</td>\n",
       "      <td>7</td>\n",
       "    </tr>\n",
       "    <tr>\n",
       "      <td>1085</td>\n",
       "      <td>9834200885</td>\n",
       "      <td>4/20/2015</td>\n",
       "      <td>550000.0</td>\n",
       "      <td>5</td>\n",
       "      <td>7</td>\n",
       "    </tr>\n",
       "    <tr>\n",
       "      <td>1127</td>\n",
       "      <td>8062900070</td>\n",
       "      <td>9/9/2014</td>\n",
       "      <td>272000.0</td>\n",
       "      <td>4</td>\n",
       "      <td>7</td>\n",
       "    </tr>\n",
       "    <tr>\n",
       "      <td>1128</td>\n",
       "      <td>8062900070</td>\n",
       "      <td>2/13/2015</td>\n",
       "      <td>369000.0</td>\n",
       "      <td>4</td>\n",
       "      <td>7</td>\n",
       "    </tr>\n",
       "  </tbody>\n",
       "</table>\n",
       "</div>"
      ],
      "text/plain": [
       "              id        date      price  condition  grade\n",
       "93    6021501535   7/25/2014   430000.0          3      8\n",
       "94    6021501535  12/23/2014   700000.0          3      8\n",
       "313   4139480200   6/18/2014  1380000.0          3     11\n",
       "314   4139480200   12/9/2014  1400000.0          3     11\n",
       "324   7520000520    9/5/2014   232000.0          3      6\n",
       "325   7520000520   3/11/2015   240500.0          3      6\n",
       "345   3969300030   7/23/2014   165000.0          3      6\n",
       "346   3969300030  12/29/2014   239900.0          3      6\n",
       "371   2231500030   10/1/2014   315000.0          5      7\n",
       "372   2231500030   3/24/2015   530000.0          5      7\n",
       "717   8820903380   7/28/2014   452000.0          3      7\n",
       "718   8820903380    1/2/2015   730000.0          3      7\n",
       "823    726049190   10/2/2014   287500.0          4      7\n",
       "824    726049190   2/18/2015   431000.0          4      7\n",
       "836   8682262400   7/18/2014   430000.0          3      8\n",
       "837   8682262400   5/13/2015   419950.0          3      8\n",
       "1084  9834200885   7/17/2014   360000.0          5      7\n",
       "1085  9834200885   4/20/2015   550000.0          5      7\n",
       "1127  8062900070    9/9/2014   272000.0          4      7\n",
       "1128  8062900070   2/13/2015   369000.0          4      7"
      ]
     },
     "execution_count": 67,
     "metadata": {},
     "output_type": "execute_result"
    }
   ],
   "source": [
    "# dates and prices change, indicating that the houses were sold more than \n",
    "# once. Creating  subset  of data to see if duplicates were purchased by \n",
    "# house flippers\n",
    "flips = dups[['id', 'date', 'price', 'condition', 'grade']]\n",
    "flips.head(20)"
   ]
  },
  {
   "cell_type": "markdown",
   "metadata": {},
   "source": [
    "Houses were bought at lower price and sold later at a higher price, but\n",
    "**grade and condition stayed the same**. Grade and condition of these homes **did not** play a significant role in the sales of these homes. **Homes may not have been flipped**."
   ]
  },
  {
   "cell_type": "code",
   "execution_count": 68,
   "metadata": {
    "ExecuteTime": {
     "end_time": "2020-07-26T16:29:48.642847Z",
     "start_time": "2020-07-26T16:29:48.491751Z"
    }
   },
   "outputs": [
    {
     "data": {
      "text/plain": [
       "False    21420\n",
       "dtype: int64"
      ]
     },
     "execution_count": 68,
     "metadata": {},
     "output_type": "execute_result"
    }
   ],
   "source": [
    "# To prevent noise in our data, will remove duplicates and keeping the most\n",
    "# recent sale price\n",
    "\n",
    "df5 = df5.drop_duplicates(subset='id', keep='last')\n",
    "df5.duplicated(['id']).value_counts()"
   ]
  },
  {
   "cell_type": "code",
   "execution_count": 69,
   "metadata": {
    "ExecuteTime": {
     "end_time": "2020-07-26T16:29:48.735479Z",
     "start_time": "2020-07-26T16:29:48.645832Z"
    }
   },
   "outputs": [
    {
     "data": {
      "text/plain": [
       "id                 0\n",
       "price              0\n",
       "bedrooms           0\n",
       "bathrooms          0\n",
       "sqft_living        0\n",
       "sqft_lot           0\n",
       "sqft_above         0\n",
       "yr_built           0\n",
       "zipcode            0\n",
       "lat                0\n",
       "long               0\n",
       "sqft_living15      0\n",
       "sqft_lot15         0\n",
       "waterfront_N       0\n",
       "waterfront_Y       0\n",
       "not_renovated      0\n",
       "is_renovated       0\n",
       "floors_1           0\n",
       "floors_2           0\n",
       "floors_3           0\n",
       "floors_3_half      0\n",
       "not_viewed         0\n",
       "viewed             0\n",
       "day_of_year        0\n",
       "no_basement        0\n",
       "has_basement       0\n",
       "total_home_sqft    0\n",
       "quad_1             0\n",
       "quad_2             0\n",
       "quad_3             0\n",
       "quad_4             0\n",
       "grd_1_to_5         0\n",
       "grd_6_to_7         0\n",
       "grd_8_to_9         0\n",
       "grd_10_to_11       0\n",
       "grd_12_to_13       0\n",
       "jan_mar            0\n",
       "apr_jun            0\n",
       "jul_sep            0\n",
       "oct_dec            0\n",
       "cond_poor          0\n",
       "cond_fair          0\n",
       "cond_average       0\n",
       "cond_good          0\n",
       "cond_very_good     0\n",
       "dtype: int64"
      ]
     },
     "execution_count": 69,
     "metadata": {},
     "output_type": "execute_result"
    }
   ],
   "source": [
    "df5.isna().sum()"
   ]
  },
  {
   "cell_type": "code",
   "execution_count": 70,
   "metadata": {
    "ExecuteTime": {
     "end_time": "2020-07-26T16:29:48.897673Z",
     "start_time": "2020-07-26T16:29:48.736467Z"
    }
   },
   "outputs": [
    {
     "name": "stdout",
     "output_type": "stream",
     "text": [
      "<class 'pandas.core.frame.DataFrame'>\n",
      "Int64Index: 21420 entries, 0 to 21596\n",
      "Data columns (total 45 columns):\n",
      "id                 21420 non-null int64\n",
      "price              21420 non-null float64\n",
      "bedrooms           21420 non-null int64\n",
      "bathrooms          21420 non-null float64\n",
      "sqft_living        21420 non-null int64\n",
      "sqft_lot           21420 non-null int64\n",
      "sqft_above         21420 non-null int64\n",
      "yr_built           21420 non-null int8\n",
      "zipcode            21420 non-null int8\n",
      "lat                21420 non-null float64\n",
      "long               21420 non-null float64\n",
      "sqft_living15      21420 non-null int64\n",
      "sqft_lot15         21420 non-null int64\n",
      "waterfront_N       21420 non-null int32\n",
      "waterfront_Y       21420 non-null int32\n",
      "not_renovated      21420 non-null int32\n",
      "is_renovated       21420 non-null int32\n",
      "floors_1           21420 non-null int32\n",
      "floors_2           21420 non-null int32\n",
      "floors_3           21420 non-null int32\n",
      "floors_3_half      21420 non-null int32\n",
      "not_viewed         21420 non-null uint8\n",
      "viewed             21420 non-null uint8\n",
      "day_of_year        21420 non-null int16\n",
      "no_basement        21420 non-null uint8\n",
      "has_basement       21420 non-null uint8\n",
      "total_home_sqft    21420 non-null float64\n",
      "quad_1             21420 non-null int8\n",
      "quad_2             21420 non-null int8\n",
      "quad_3             21420 non-null int8\n",
      "quad_4             21420 non-null int8\n",
      "grd_1_to_5         21420 non-null uint8\n",
      "grd_6_to_7         21420 non-null uint8\n",
      "grd_8_to_9         21420 non-null uint8\n",
      "grd_10_to_11       21420 non-null uint8\n",
      "grd_12_to_13       21420 non-null uint8\n",
      "jan_mar            21420 non-null uint8\n",
      "apr_jun            21420 non-null uint8\n",
      "jul_sep            21420 non-null uint8\n",
      "oct_dec            21420 non-null uint8\n",
      "cond_poor          21420 non-null uint8\n",
      "cond_fair          21420 non-null uint8\n",
      "cond_average       21420 non-null uint8\n",
      "cond_good          21420 non-null uint8\n",
      "cond_very_good     21420 non-null uint8\n",
      "dtypes: float64(5), int16(1), int32(8), int64(7), int8(6), uint8(18)\n",
      "memory usage: 3.3 MB\n"
     ]
    }
   ],
   "source": [
    "df5.info()"
   ]
  },
  {
   "cell_type": "markdown",
   "metadata": {},
   "source": [
    "## Fixing data types\n",
    "\n",
    "I've noticed that I run into problems making models if features are dtype 'uint' or unsigned integers, which is why we're changing them."
   ]
  },
  {
   "cell_type": "code",
   "execution_count": 71,
   "metadata": {
    "ExecuteTime": {
     "end_time": "2020-07-26T16:29:49.049656Z",
     "start_time": "2020-07-26T16:29:48.898670Z"
    }
   },
   "outputs": [
    {
     "name": "stdout",
     "output_type": "stream",
     "text": [
      "<class 'pandas.core.frame.DataFrame'>\n",
      "Int64Index: 21420 entries, 0 to 21596\n",
      "Data columns (total 45 columns):\n",
      "id                 21420 non-null int64\n",
      "price              21420 non-null float64\n",
      "bedrooms           21420 non-null int64\n",
      "bathrooms          21420 non-null float64\n",
      "sqft_living        21420 non-null int64\n",
      "sqft_lot           21420 non-null int64\n",
      "sqft_above         21420 non-null int64\n",
      "yr_built           21420 non-null int8\n",
      "zipcode            21420 non-null int8\n",
      "lat                21420 non-null float64\n",
      "long               21420 non-null float64\n",
      "sqft_living15      21420 non-null int64\n",
      "sqft_lot15         21420 non-null int64\n",
      "waterfront_N       21420 non-null int32\n",
      "waterfront_Y       21420 non-null int32\n",
      "not_renovated      21420 non-null int32\n",
      "is_renovated       21420 non-null int32\n",
      "floors_1           21420 non-null int32\n",
      "floors_2           21420 non-null int32\n",
      "floors_3           21420 non-null int32\n",
      "floors_3_half      21420 non-null int32\n",
      "not_viewed         21420 non-null int32\n",
      "viewed             21420 non-null int32\n",
      "day_of_year        21420 non-null int16\n",
      "no_basement        21420 non-null int32\n",
      "has_basement       21420 non-null int32\n",
      "total_home_sqft    21420 non-null float64\n",
      "quad_1             21420 non-null int8\n",
      "quad_2             21420 non-null int8\n",
      "quad_3             21420 non-null int8\n",
      "quad_4             21420 non-null int8\n",
      "grd_1_to_5         21420 non-null int32\n",
      "grd_6_to_7         21420 non-null int32\n",
      "grd_8_to_9         21420 non-null int32\n",
      "grd_10_to_11       21420 non-null int32\n",
      "grd_12_to_13       21420 non-null int32\n",
      "jan_mar            21420 non-null int32\n",
      "apr_jun            21420 non-null int32\n",
      "jul_sep            21420 non-null int32\n",
      "oct_dec            21420 non-null int32\n",
      "cond_poor          21420 non-null int32\n",
      "cond_fair          21420 non-null int32\n",
      "cond_average       21420 non-null int32\n",
      "cond_good          21420 non-null int32\n",
      "cond_very_good     21420 non-null int32\n",
      "dtypes: float64(5), int16(1), int32(26), int64(7), int8(6)\n",
      "memory usage: 4.4 MB\n"
     ]
    }
   ],
   "source": [
    "for col in df5.columns:\n",
    "    if df5[col].dtype == df5['cond_very_good'].dtype:\n",
    "        df5[col] = df5[col].astype(int)\n",
    "df5.info()"
   ]
  },
  {
   "cell_type": "markdown",
   "metadata": {},
   "source": [
    "# Exporting to CSV"
   ]
  },
  {
   "cell_type": "code",
   "execution_count": 72,
   "metadata": {
    "ExecuteTime": {
     "end_time": "2020-07-26T16:29:50.038276Z",
     "start_time": "2020-07-26T16:29:49.050655Z"
    }
   },
   "outputs": [],
   "source": [
    "df5.to_csv('csv_files/new_kc_house_data_clean_with_dummies2.csv')"
   ]
  }
 ],
 "metadata": {
  "kernelspec": {
   "display_name": "Python [conda env:learn-env] *",
   "language": "python",
   "name": "conda-env-learn-env-py"
  },
  "language_info": {
   "codemirror_mode": {
    "name": "ipython",
    "version": 3
   },
   "file_extension": ".py",
   "mimetype": "text/x-python",
   "name": "python",
   "nbconvert_exporter": "python",
   "pygments_lexer": "ipython3",
   "version": "3.6.9"
  },
  "toc": {
   "base_numbering": 1,
   "nav_menu": {},
   "number_sections": true,
   "sideBar": true,
   "skip_h1_title": false,
   "title_cell": "Table of Contents",
   "title_sidebar": "Contents",
   "toc_cell": false,
   "toc_position": {
    "height": "calc(100% - 180px)",
    "left": "10px",
    "top": "150px",
    "width": "191.594px"
   },
   "toc_section_display": true,
   "toc_window_display": true
  },
  "varInspector": {
   "cols": {
    "lenName": 16,
    "lenType": 16,
    "lenVar": 40
   },
   "kernels_config": {
    "python": {
     "delete_cmd_postfix": "",
     "delete_cmd_prefix": "del ",
     "library": "var_list.py",
     "varRefreshCmd": "print(var_dic_list())"
    },
    "r": {
     "delete_cmd_postfix": ") ",
     "delete_cmd_prefix": "rm(",
     "library": "var_list.r",
     "varRefreshCmd": "cat(var_dic_list()) "
    }
   },
   "types_to_exclude": [
    "module",
    "function",
    "builtin_function_or_method",
    "instance",
    "_Feature"
   ],
   "window_display": false
  }
 },
 "nbformat": 4,
 "nbformat_minor": 2
}
